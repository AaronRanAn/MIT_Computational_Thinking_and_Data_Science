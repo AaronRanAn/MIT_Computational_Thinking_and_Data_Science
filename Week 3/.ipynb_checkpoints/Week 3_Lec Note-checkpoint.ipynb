{
 "cells": [
  {
   "cell_type": "markdown",
   "metadata": {},
   "source": [
    "## Week 3: Monte Carlo Simulation"
   ]
  },
  {
   "cell_type": "code",
   "execution_count": 1,
   "metadata": {
    "collapsed": true
   },
   "outputs": [],
   "source": [
    "import random\n",
    "\n",
    "def rollDie():\n",
    "    \"\"\"returns a random int between 1 and 6\"\"\"\n",
    "    return random.choice([1,2,3,4,5,6])\n",
    "\n",
    "def checkPascal(numTrials, roll):\n",
    "    yes = 0.0\n",
    "    for i in range(numTrials):\n",
    "        for j in range(24):\n",
    "            d1 = roll()\n",
    "            d2 = roll()\n",
    "            if d1 == 6 and d2 == 6:\n",
    "                yes += 1\n",
    "                break\n",
    "    print 'Probability of losing =', 1.0 - yes/numTrials"
   ]
  },
  {
   "cell_type": "code",
   "execution_count": 2,
   "metadata": {
    "collapsed": false
   },
   "outputs": [
    {
     "name": "stdout",
     "output_type": "stream",
     "text": [
      "Probability of losing = 0.5127\n"
     ]
    }
   ],
   "source": [
    "checkPascal(10000, rollDie)"
   ]
  },
  {
   "cell_type": "code",
   "execution_count": 3,
   "metadata": {
    "collapsed": true
   },
   "outputs": [],
   "source": [
    "def rollLoadedDie():\n",
    "    if random.random() < 1.0/5.5:\n",
    "        return 6\n",
    "    else:\n",
    "        return random.choice([1,2,3,4,5])\n"
   ]
  },
  {
   "cell_type": "code",
   "execution_count": 8,
   "metadata": {
    "collapsed": false
   },
   "outputs": [
    {
     "name": "stdout",
     "output_type": "stream",
     "text": [
      "Probability of losing = 0.4493\n"
     ]
    }
   ],
   "source": [
    "checkPascal(10000, rollLoadedDie) # the probability decrease dramatically"
   ]
  },
  {
   "cell_type": "code",
   "execution_count": 10,
   "metadata": {
    "collapsed": false
   },
   "outputs": [
    {
     "name": "stdout",
     "output_type": "stream",
     "text": [
      "0.500627\n",
      "0.501094\n",
      "0.500636\n",
      "0.500163\n",
      "0.500366\n"
     ]
    }
   ],
   "source": [
    "def flip(numFlips):\n",
    "    heads = 0\n",
    "    for i in range(numFlips):\n",
    "        if random.random() < 0.5:\n",
    "            heads += 1\n",
    "    return heads/float(numFlips)\n",
    "\n",
    "for i in range(5): #number of trials\n",
    "    print flip(1000000)"
   ]
  },
  {
   "cell_type": "markdown",
   "metadata": {},
   "source": [
    "### Monte Carlo Simulation"
   ]
  },
  {
   "cell_type": "markdown",
   "metadata": {},
   "source": [
    "The first known usage of the Monte Carlo simulation on practical problem is the Manhattan Project. "
   ]
  },
  {
   "cell_type": "markdown",
   "metadata": {},
   "source": [
    "A Monte Carlo simulation is a method of **estimating** the value of an unknown quantity using the principles of **inferential** statistics."
   ]
  },
  {
   "cell_type": "markdown",
   "metadata": {},
   "source": [
    "### L5 Problem 1\n",
    "\n",
    "You have a bucket with 3 red balls and 3 green balls. Assume that once you draw a ball out of the bucket, you don't replace it. What is the probability of drawing 3 balls of the same color?"
   ]
  },
  {
   "cell_type": "code",
   "execution_count": 11,
   "metadata": {
    "collapsed": true
   },
   "outputs": [],
   "source": [
    "def oneTrial():\n",
    "    '''\n",
    "    Simulates one trial of drawing 3 balls out of a bucket containing\n",
    "    3 red and 3 green balls. Balls are not replaced once\n",
    "    drawn. Returns True if all three balls are the same color,\n",
    "    False otherwise.\n",
    "    '''\n",
    "    balls = ['r', 'r', 'r', 'g', 'g', 'g']\n",
    "    chosenBalls = []\n",
    "    for t in range(3):\n",
    "        # For three trials, pick a ball\n",
    "        ball = random.choice(balls)\n",
    "        # Remove the chosen ball from the set of balls\n",
    "        balls.remove(ball)\n",
    "        # and add it to a list of balls we picked\n",
    "        chosenBalls.append(ball)\n",
    "    # If the first ball is the same as the second AND the second is the same as the third,\n",
    "    #  we know all three must be the same color.\n",
    "    if chosenBalls[0] == chosenBalls[1] and chosenBalls[1] == chosenBalls[2]:\n",
    "        return True\n",
    "    return False\n",
    "\n",
    "def noReplacementSimulation(numTrials):\n",
    "    '''\n",
    "    Runs numTrials trials of a Monte Carlo simulation\n",
    "    of drawing 3 balls out of a bucket containing\n",
    "    3 red and 3 green balls. Balls are not replaced once\n",
    "    drawn. Returns the a decimal - the fraction of times 3 \n",
    "    balls of the same color were drawn.\n",
    "    '''\n",
    "    numTrue = 0\n",
    "    for trial in range(numTrials):\n",
    "        if oneTrial():\n",
    "            numTrue += 1\n",
    "\n",
    "    return float(numTrue)/float(numTrials)"
   ]
  },
  {
   "cell_type": "code",
   "execution_count": 13,
   "metadata": {
    "collapsed": false
   },
   "outputs": [
    {
     "data": {
      "text/plain": [
       "0.10048"
      ]
     },
     "execution_count": 13,
     "metadata": {},
     "output_type": "execute_result"
    }
   ],
   "source": [
    "noReplacementSimulation(50000)"
   ]
  },
  {
   "cell_type": "markdown",
   "metadata": {},
   "source": [
    "### Estimate Pi"
   ]
  },
  {
   "cell_type": "code",
   "execution_count": 14,
   "metadata": {
    "collapsed": true
   },
   "outputs": [],
   "source": [
    "import random, pylab\n",
    "\n",
    "#set line width\n",
    "pylab.rcParams['lines.linewidth'] = 6\n",
    "#set font size for titles \n",
    "pylab.rcParams['axes.titlesize'] = 20\n",
    "#set font size for labels on axes\n",
    "pylab.rcParams['axes.labelsize'] = 20\n",
    "#set size of numbers on x-axis\n",
    "pylab.rcParams['xtick.major.size'] = 5\n",
    "#set size of numbers on y-axis\n",
    "pylab.rcParams['ytick.major.size'] = 5\n",
    "#set font size for text\n",
    "pylab.rcParams['legend.fontsize'] = 20\n",
    "\n",
    "def stdDev(X):\n",
    "    mean = sum(X)/float(len(X))\n",
    "    tot = 0.0\n",
    "    for x in X:\n",
    "        tot += (x - mean)**2\n",
    "    return (tot/len(X))**0.5\n",
    "\n",
    "def throwNeedles(numNeedles):\n",
    "    inCircle = 0\n",
    "    for Needles in xrange(1, numNeedles + 1, 1):\n",
    "        x = random.random()\n",
    "        y = random.random()\n",
    "        if (x*x + y*y)**0.5 <= 1.0:\n",
    "            inCircle += 1\n",
    "    return 4*(inCircle/float(numNeedles))\n",
    "\n",
    "def getEst(numNeedles, numTrials):\n",
    "    estimates = []\n",
    "    for t in range(numTrials):\n",
    "        piGuess = throwNeedles(numNeedles)\n",
    "        estimates.append(piGuess)\n",
    "    sDev = stdDev(estimates)\n",
    "    curEst = sum(estimates)/len(estimates)\n",
    "    print 'Est. = ' + str(curEst) +\\\n",
    "          ', Std. dev. = ' + str(round(sDev, 6))\\\n",
    "          + ', Needles = ' + str(numNeedles)\n",
    "    return (curEst, sDev)\n",
    "\n",
    "def estPi(precision, numTrials):\n",
    "    numNeedles = 1000\n",
    "    sDev = precision\n",
    "    while sDev >= precision/2.0:\n",
    "        curEst, sDev = getEst(numNeedles, numTrials)\n",
    "        numNeedles *= 2\n",
    "    return curEst"
   ]
  },
  {
   "cell_type": "code",
   "execution_count": 17,
   "metadata": {
    "collapsed": false
   },
   "outputs": [
    {
     "name": "stdout",
     "output_type": "stream",
     "text": [
      "Est. = 3.14844, Std. dev. = 0.047886, Needles = 1000\n",
      "Est. = 3.13918, Std. dev. = 0.035495, Needles = 2000\n",
      "Est. = 3.14108, Std. dev. = 0.02713, Needles = 4000\n",
      "Est. = 3.141435, Std. dev. = 0.016805, Needles = 8000\n",
      "Est. = 3.141355, Std. dev. = 0.0137, Needles = 16000\n",
      "Est. = 3.14131375, Std. dev. = 0.008476, Needles = 32000\n",
      "Est. = 3.141171875, Std. dev. = 0.007028, Needles = 64000\n",
      "Est. = 3.1415896875, Std. dev. = 0.004035, Needles = 128000\n",
      "Est. = 3.14174140625, Std. dev. = 0.003536, Needles = 256000\n",
      "Est. = 3.14155671875, Std. dev. = 0.002101, Needles = 512000\n"
     ]
    },
    {
     "data": {
      "text/plain": [
       "3.14155671875"
      ]
     },
     "execution_count": 17,
     "metadata": {},
     "output_type": "execute_result"
    }
   ],
   "source": [
    "random.seed(0)\n",
    "estPi(0.005, 100)"
   ]
  },
  {
   "cell_type": "markdown",
   "metadata": {},
   "source": [
    "### Three Thing to Check Before Running Simulation. \n",
    "\n",
    "- Conceptual model is correct\n",
    "\n",
    "- Implementation is correct\n",
    "\n",
    "- Enough Samples to believe the result"
   ]
  },
  {
   "cell_type": "code",
   "execution_count": null,
   "metadata": {
    "collapsed": true
   },
   "outputs": [],
   "source": []
  }
 ],
 "metadata": {
  "kernelspec": {
   "display_name": "Python 2",
   "language": "python",
   "name": "python2"
  },
  "language_info": {
   "codemirror_mode": {
    "name": "ipython",
    "version": 2
   },
   "file_extension": ".py",
   "mimetype": "text/x-python",
   "name": "python",
   "nbconvert_exporter": "python",
   "pygments_lexer": "ipython2",
   "version": "2.7.10"
  }
 },
 "nbformat": 4,
 "nbformat_minor": 0
}
