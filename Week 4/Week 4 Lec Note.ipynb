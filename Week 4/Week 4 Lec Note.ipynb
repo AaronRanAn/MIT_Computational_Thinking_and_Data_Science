{
 "cells": [
  {
   "cell_type": "markdown",
   "metadata": {},
   "source": [
    "## Week 4: Curve Fitting"
   ]
  },
  {
   "cell_type": "markdown",
   "metadata": {
    "collapsed": true
   },
   "source": [
    "Import neccessary module for this week."
   ]
  },
  {
   "cell_type": "code",
   "execution_count": 1,
   "metadata": {
    "collapsed": true
   },
   "outputs": [],
   "source": [
    "import pylab, random"
   ]
  },
  {
   "cell_type": "code",
   "execution_count": 2,
   "metadata": {
    "collapsed": true
   },
   "outputs": [],
   "source": [
    "def getData(fileName):\n",
    "    dataFile = open(fileName, 'r')\n",
    "    distances = []\n",
    "    masses = []\n",
    "    discardHeader = dataFile.readline()\n",
    "    for line in dataFile:\n",
    "        d, m = line.split()\n",
    "        distances.append(float(d))\n",
    "        masses.append(float(m))\n",
    "    dataFile.close()\n",
    "    return (masses, distances)"
   ]
  },
  {
   "cell_type": "code",
   "execution_count": 3,
   "metadata": {
    "collapsed": true
   },
   "outputs": [],
   "source": [
    "def plotData(fileName):\n",
    "    xVals, yVals = getData(fileName)\n",
    "    xVals = pylab.array(xVals)\n",
    "    yVals = pylab.array(yVals)\n",
    "    xVals = xVals*9.81 # convert mass to force (F = mg)\n",
    "    pylab.plot(xVals, yVals, 'bo', label = 'Measured displacements')\n",
    "    pylab.title('Measured Displacement of Spring')\n",
    "    pylab.xlabel('Force (Newtons)')\n",
    "    pylab.ylabel('Distance (meters)')"
   ]
  },
  {
   "cell_type": "code",
   "execution_count": 4,
   "metadata": {
    "collapsed": true
   },
   "outputs": [],
   "source": [
    "##plotData('springData.txt')\n",
    "##pylab.show()"
   ]
  },
  {
   "cell_type": "code",
   "execution_count": 5,
   "metadata": {
    "collapsed": true
   },
   "outputs": [],
   "source": [
    "def testErrors(ntrials=10000,npts=100):\n",
    "    results = [0] * ntrials\n",
    "    for i in xrange(ntrials):\n",
    "        s = 0   # sum of random points\n",
    "        for j in xrange(npts):\n",
    "            s += random.triangular(-1,1)\n",
    "        results[i] =s\n",
    "    # plot results in a histogram\n",
    "    pylab.hist(results,bins=50)\n",
    "    pylab.title('Sum of 100 random points -- Triangular PDF (10,000 trials)')\n",
    "    pylab.xlabel('Sum')\n",
    "    pylab.ylabel('Number of trials')"
   ]
  },
  {
   "cell_type": "code",
   "execution_count": 6,
   "metadata": {
    "collapsed": true
   },
   "outputs": [],
   "source": [
    "##testErrors()\n",
    "##pylab.show()"
   ]
  },
  {
   "cell_type": "code",
   "execution_count": 7,
   "metadata": {
    "collapsed": true
   },
   "outputs": [],
   "source": [
    "def fitData(fileName):\n",
    "    xVals, yVals = getData(fileName)\n",
    "    xVals = pylab.array(xVals)\n",
    "    yVals = pylab.array(yVals)\n",
    "    xVals = xVals*9.81  # convert mass to force (F = mg)\n",
    "    pylab.plot(xVals, yVals, 'bo', label = 'Measured points')\n",
    "    pylab.title('Measured Displacement of Spring')\n",
    "    pylab.xlabel('Force (Newtons)')\n",
    "    pylab.ylabel('Distance (meters)')\n",
    "    a,b = pylab.polyfit(xVals, yVals, 1)  # fit y = ax + b\n",
    "    # use line equation to graph predicted values\n",
    "    estYVals = a*xVals + b\n",
    "    k = 1/a\n",
    "    pylab.plot(xVals, estYVals, label = 'Linear fit, k = '\n",
    "               + str(round(k, 5)))\n",
    "    pylab.legend(loc = 'best')"
   ]
  },
  {
   "cell_type": "code",
   "execution_count": 9,
   "metadata": {
    "collapsed": true
   },
   "outputs": [],
   "source": [
    "##fitData('springData.txt')\n",
    "##pylab.show()"
   ]
  },
  {
   "cell_type": "code",
   "execution_count": 10,
   "metadata": {
    "collapsed": true
   },
   "outputs": [],
   "source": [
    "def fitData1(fileName):\n",
    "    xVals, yVals = getData(fileName)\n",
    "    xVals = pylab.array(xVals)\n",
    "    yVals = pylab.array(yVals)\n",
    "    xVals = xVals*9.81  # convert mass to force (F = mg)\n",
    "    pylab.plot(xVals, yVals, 'bo', label = 'Measured displacements')\n",
    "    pylab.title('Measured Displacement of Spring')\n",
    "    pylab.xlabel('|Force| (Newtons)')\n",
    "    pylab.ylabel('Distance (meters)')\n",
    "    a,b = pylab.polyfit(xVals, yVals, 1)\n",
    "    estYVals = a*xVals + b\n",
    "    pylab.plot(xVals, estYVals, label = 'Linear fit')\n",
    "    a,b,c,d = pylab.polyfit(xVals, yVals, 3)\n",
    "    estYVals = a*(xVals**3) + b*xVals**2 + c*xVals + d\n",
    "    pylab.plot(xVals, estYVals, label = 'Cubic fit')\n",
    "    pylab.legend(loc = 'best')"
   ]
  },
  {
   "cell_type": "code",
   "execution_count": 11,
   "metadata": {
    "collapsed": true
   },
   "outputs": [],
   "source": [
    "##fitData1('springData.txt')\n",
    "##pylab.show()"
   ]
  },
  {
   "cell_type": "code",
   "execution_count": 12,
   "metadata": {
    "collapsed": true
   },
   "outputs": [],
   "source": [
    "def fitData2(fileName):\n",
    "    xVals, yVals = getData(fileName)\n",
    "    extX = pylab.array(xVals + [1.05, 1.1, 1.15, 1.2, 1.25])\n",
    "    xVals = pylab.array(xVals)\n",
    "    yVals = pylab.array(yVals)\n",
    "    xVals = xVals*9.81  # convert mass to force (F = mg)\n",
    "    extX = extX*9.81    # convert mass to force (F = mg)\n",
    "    pylab.plot(xVals, yVals, 'bo', label = 'Measured displacements')\n",
    "    pylab.title('Measured Displacement of Spring')\n",
    "    pylab.xlabel('|Force| (Newtons)')\n",
    "    pylab.ylabel('Distance (meters)')\n",
    "    a,b = pylab.polyfit(xVals, yVals, 1)\n",
    "    estYVals = a*extX + b\n",
    "    pylab.plot(extX, estYVals, label = 'Linear fit')\n",
    "    a,b,c,d = pylab.polyfit(xVals, yVals, 3)\n",
    "    estYVals = a*(extX**3) + b*extX**2 + c*extX + d\n",
    "    pylab.plot(extX, estYVals, label = 'Cubic fit')\n",
    "    pylab.legend(loc = 'best')"
   ]
  },
  {
   "cell_type": "code",
   "execution_count": 13,
   "metadata": {
    "collapsed": true
   },
   "outputs": [],
   "source": [
    "##fitData2('springData.txt')\n",
    "##pylab.show()"
   ]
  },
  {
   "cell_type": "code",
   "execution_count": 14,
   "metadata": {
    "collapsed": true
   },
   "outputs": [],
   "source": [
    "def fitData3(fileName):\n",
    "    xVals, yVals = getData(fileName)\n",
    "    xVals = pylab.array(xVals[:-6])\n",
    "    yVals = pylab.array(yVals[:-6])\n",
    "    xVals = xVals*9.81  # convert mass to force (F = mg)\n",
    "    pylab.plot(xVals, yVals, 'bo', label = 'Measured points')\n",
    "    pylab.title('Measured Displacement of Spring')\n",
    "    pylab.xlabel('Force (Newtons)')\n",
    "    pylab.ylabel('Distance (meters)')\n",
    "    a,b = pylab.polyfit(xVals, yVals, 1)  # fix y = ax + b\n",
    "    # use line equation to graph predicted values\n",
    "    estYVals = a*xVals + b\n",
    "    k = 1/a\n",
    "    pylab.plot(xVals, estYVals, label = 'Linear fit, k = '\n",
    "               + str(round(k, 5)))\n",
    "    pylab.legend(loc = 'best')"
   ]
  },
  {
   "cell_type": "code",
   "execution_count": 15,
   "metadata": {
    "collapsed": true
   },
   "outputs": [],
   "source": [
    "##fitData3('springData.txt')\n",
    "##pylab.show()"
   ]
  },
  {
   "cell_type": "code",
   "execution_count": 16,
   "metadata": {
    "collapsed": true
   },
   "outputs": [],
   "source": [
    "def getTrajectoryData(fileName):\n",
    "    dataFile = open(fileName, 'r')\n",
    "    distances = []\n",
    "    heights1, heights2, heights3, heights4 = [],[],[],[]\n",
    "    discardHeader = dataFile.readline()\n",
    "    for line in dataFile:\n",
    "        d, h1, h2, h3, h4 = line.split()\n",
    "        distances.append(float(d))\n",
    "        heights1.append(float(h1))\n",
    "        heights2.append(float(h2))\n",
    "        heights3.append(float(h3))\n",
    "        heights4.append(float(h4))\n",
    "    dataFile.close()\n",
    "    return (distances, [heights1, heights2, heights3, heights4])\n",
    "\n",
    "def tryFits(fName):\n",
    "    distances, heights = getTrajectoryData(fName)\n",
    "    distances = pylab.array(distances)*36\n",
    "    totHeights = pylab.array([0]*len(distances))\n",
    "    for h in heights:\n",
    "        totHeights = totHeights + pylab.array(h)\n",
    "    pylab.title('Trajectory of Projectile (Mean of 4 Trials)')\n",
    "    pylab.xlabel('Inches from Launch Point')\n",
    "    pylab.ylabel('Inches Above Launch Point')\n",
    "    meanHeights = totHeights/float(len(heights))\n",
    "    pylab.plot(distances, meanHeights, 'bo')\n",
    "    a,b = pylab.polyfit(distances, meanHeights, 1)\n",
    "    altitudes = a*distances + b\n",
    "    pylab.plot(distances, altitudes, 'r',\n",
    "               label = 'Linear Fit')\n",
    "    a,b,c = pylab.polyfit(distances, meanHeights, 2)\n",
    "    altitudes = a*(distances**2) + b*distances + c\n",
    "    pylab.plot(distances, altitudes, 'g',\n",
    "               label = 'Quadratic Fit')\n",
    "    pylab.legend()"
   ]
  },
  {
   "cell_type": "code",
   "execution_count": 17,
   "metadata": {
    "collapsed": true
   },
   "outputs": [],
   "source": [
    "##tryFits('launcherData.txt')\n",
    "##pylab.show()"
   ]
  },
  {
   "cell_type": "code",
   "execution_count": 18,
   "metadata": {
    "collapsed": true
   },
   "outputs": [],
   "source": [
    "def rSquare(measured, estimated):\n",
    "    \"\"\"measured: one dimensional array of measured values\n",
    "       estimate: one dimensional array of predicted values\"\"\"\n",
    "    SEE = ((estimated - measured)**2).sum()\n",
    "    mMean = measured.sum()/float(len(measured))\n",
    "    MV = ((mMean - measured)**2).sum()\n",
    "    return 1 - SEE/MV\n",
    "\n",
    "def tryFits1(fName):\n",
    "    distances, heights = getTrajectoryData(fName)\n",
    "    distances = pylab.array(distances)*36\n",
    "    totHeights = pylab.array([0]*len(distances))\n",
    "    for h in heights:\n",
    "        totHeights = totHeights + pylab.array(h)\n",
    "    pylab.title('Trajectory of Projectile (Mean of 4 Trials)')\n",
    "    pylab.xlabel('Inches from Launch Point')\n",
    "    pylab.ylabel('Inches Above Launch Point')\n",
    "    meanHeights = totHeights/float(len(heights))\n",
    "    pylab.plot(distances, meanHeights, 'bo')\n",
    "    a,b = pylab.polyfit(distances, meanHeights, 1)\n",
    "    altitudes = a*distances + b\n",
    "    pylab.plot(distances, altitudes, 'r',\n",
    "               label = 'Linear Fit' + ', R2 = '\n",
    "               + str(round(rSquare(meanHeights, altitudes), 4)))\n",
    "    a,b,c = pylab.polyfit(distances, meanHeights, 2)\n",
    "    altitudes = a*(distances**2) + b*distances + c\n",
    "    pylab.plot(distances, altitudes, 'g',\n",
    "               label = 'Quadratic Fit' + ', R2 = '\n",
    "               + str(round(rSquare(meanHeights, altitudes), 4)))\n",
    "    pylab.legend()\n"
   ]
  },
  {
   "cell_type": "code",
   "execution_count": 19,
   "metadata": {
    "collapsed": true
   },
   "outputs": [],
   "source": [
    "##tryFits1('launcherData.txt')\n",
    "##pylab.show()"
   ]
  },
  {
   "cell_type": "code",
   "execution_count": null,
   "metadata": {
    "collapsed": true
   },
   "outputs": [],
   "source": []
  }
 ],
 "metadata": {
  "kernelspec": {
   "display_name": "Python 2",
   "language": "python",
   "name": "python2"
  },
  "language_info": {
   "codemirror_mode": {
    "name": "ipython",
    "version": 2
   },
   "file_extension": ".py",
   "mimetype": "text/x-python",
   "name": "python",
   "nbconvert_exporter": "python",
   "pygments_lexer": "ipython2",
   "version": "2.7.10"
  }
 },
 "nbformat": 4,
 "nbformat_minor": 0
}
