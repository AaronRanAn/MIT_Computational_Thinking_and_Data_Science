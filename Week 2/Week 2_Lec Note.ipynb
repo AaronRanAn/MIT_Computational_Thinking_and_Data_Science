{
 "cells": [
  {
   "cell_type": "markdown",
   "metadata": {},
   "source": [
    "# Week 2"
   ]
  },
  {
   "cell_type": "markdown",
   "metadata": {},
   "source": [
    "## Lecture 3: Probability and Hashing"
   ]
  },
  {
   "cell_type": "markdown",
   "metadata": {},
   "source": [
    "** Stochastic Processes **"
   ]
  },
  {
   "cell_type": "markdown",
   "metadata": {},
   "source": [
    "An ongoing process where the next state might depend on _both the previous states and some random element._"
   ]
  },
  {
   "cell_type": "markdown",
   "metadata": {},
   "source": [
    "### 1. Frequentist Probability"
   ]
  },
  {
   "cell_type": "markdown",
   "metadata": {},
   "source": [
    "#### What's the probability (simulated) of rolling a dice and 5 consecutive ones?"
   ]
  },
  {
   "cell_type": "code",
   "execution_count": 2,
   "metadata": {
    "collapsed": false
   },
   "outputs": [],
   "source": [
    "import random\n",
    "\n",
    "def rollDie():\n",
    "    return random.choice([1,2,3,4,5,6])\n",
    "\n",
    "def rollN(n):\n",
    "    result = ''\n",
    "    for i in range(n):\n",
    "        result = result + str(rollDie())\n",
    "    return result"
   ]
  },
  {
   "cell_type": "code",
   "execution_count": 4,
   "metadata": {
    "collapsed": false
   },
   "outputs": [
    {
     "name": "stdout",
     "output_type": "stream",
     "text": [
      "4664154415\n"
     ]
    }
   ],
   "source": [
    "print rollN(10)"
   ]
  },
  {
   "cell_type": "code",
   "execution_count": 6,
   "metadata": {
    "collapsed": false
   },
   "outputs": [
    {
     "data": {
      "text/plain": [
       "str"
      ]
     },
     "execution_count": 6,
     "metadata": {},
     "output_type": "execute_result"
    }
   ],
   "source": [
    "type(rollN(10)) # the outcome of the rollN Simulation is a string "
   ]
  },
  {
   "cell_type": "code",
   "execution_count": 12,
   "metadata": {
    "collapsed": false
   },
   "outputs": [],
   "source": [
    "def getTarget(goal):\n",
    "    numTries = 0\n",
    "    numRolls = len(goal)\n",
    "    while True:\n",
    "        numTries += 1\n",
    "        result = rollN(numRolls)\n",
    "        if result == goal:\n",
    "            return numTries\n",
    "\n",
    "def runSim(goal, numTrials): # run sim call getTarget multiple times\n",
    "    total = 0\n",
    "    for i in range(numTrials):\n",
    "        total += getTarget(goal)\n",
    "    Average_Num_Tries =  total/float(numTrials)\n",
    "    print 'Probability =', 1.0/Average_Num_Tries"
   ]
  },
  {
   "cell_type": "code",
   "execution_count": 13,
   "metadata": {
    "collapsed": false
   },
   "outputs": [
    {
     "name": "stdout",
     "output_type": "stream",
     "text": [
      "Probability = 0.000147901864155\n"
     ]
    }
   ],
   "source": [
    "runSim('11111', 100)"
   ]
  },
  {
   "cell_type": "code",
   "execution_count": 19,
   "metadata": {
    "collapsed": true
   },
   "outputs": [],
   "source": [
    "def atLeastOneOne(numRolls, numTrials):\n",
    "    numSuccess = 0\n",
    "    for i in range(numTrials):\n",
    "        rolls = rollN(numRolls)\n",
    "        if '1' in rolls:\n",
    "            numSuccess += 1\n",
    "        fracSuccess = numSuccess/float(numTrials)\n",
    "    print fracSuccess"
   ]
  },
  {
   "cell_type": "code",
   "execution_count": 22,
   "metadata": {
    "collapsed": false
   },
   "outputs": [
    {
     "name": "stdout",
     "output_type": "stream",
     "text": [
      "0.859\n"
     ]
    }
   ],
   "source": [
    "atLeastOneOne(10, 1000)"
   ]
  },
  {
   "cell_type": "markdown",
   "metadata": {},
   "source": [
    "#### What's the probability (simulated) of rolling a dice and no ones?"
   ]
  },
  {
   "cell_type": "code",
   "execution_count": 17,
   "metadata": {
    "collapsed": false
   },
   "outputs": [
    {
     "data": {
      "text/plain": [
       "0.401877572016461"
      ]
     },
     "execution_count": 17,
     "metadata": {},
     "output_type": "execute_result"
    }
   ],
   "source": [
    "(5.0/6)**5"
   ]
  },
  {
   "cell_type": "markdown",
   "metadata": {},
   "source": [
    "** IF you have 100 students in your class today and you promised to give 100 dollar to whomever that is having his/her birthday today. What is the probability of you not paying the money?**"
   ]
  },
  {
   "cell_type": "code",
   "execution_count": 18,
   "metadata": {
    "collapsed": false
   },
   "outputs": [
    {
     "data": {
      "text/plain": [
       "0.7600670738159009"
      ]
     },
     "execution_count": 18,
     "metadata": {},
     "output_type": "execute_result"
    }
   ],
   "source": [
    "(364.0/365)**100"
   ]
  },
  {
   "cell_type": "markdown",
   "metadata": {},
   "source": [
    "### 2. Hashing"
   ]
  },
  {
   "cell_type": "code",
   "execution_count": 1,
   "metadata": {
    "collapsed": true
   },
   "outputs": [],
   "source": [
    "import random"
   ]
  },
  {
   "cell_type": "code",
   "execution_count": 2,
   "metadata": {
    "collapsed": true
   },
   "outputs": [],
   "source": [
    "def strToInt(s):\n",
    "    number = ''\n",
    "    for c in s:\n",
    "        number = number + str(ord(c))\n",
    "    index = int(number)\n",
    "    return index"
   ]
  },
  {
   "cell_type": "code",
   "execution_count": 3,
   "metadata": {
    "collapsed": false
   },
   "outputs": [
    {
     "name": "stdout",
     "output_type": "stream",
     "text": [
      "Index = 97\n"
     ]
    }
   ],
   "source": [
    "print 'Index =', strToInt('a')"
   ]
  },
  {
   "cell_type": "code",
   "execution_count": 4,
   "metadata": {
    "collapsed": false
   },
   "outputs": [
    {
     "name": "stdout",
     "output_type": "stream",
     "text": [
      "Index = 74111104110321051153297329911111110832100117100101\n"
     ]
    }
   ],
   "source": [
    "print 'Index =', strToInt('John is a cool dude')"
   ]
  },
  {
   "cell_type": "code",
   "execution_count": 6,
   "metadata": {
    "collapsed": true
   },
   "outputs": [],
   "source": [
    "def hashStr(s, tableSize = 101):\n",
    "    number = ''\n",
    "    for c in s:\n",
    "        number = number + str(ord(c))\n",
    "    index = int(number)%tableSize\n",
    "    return index"
   ]
  },
  {
   "cell_type": "code",
   "execution_count": 7,
   "metadata": {
    "collapsed": false
   },
   "outputs": [
    {
     "name": "stdout",
     "output_type": "stream",
     "text": [
      "97\n",
      "66\n"
     ]
    }
   ],
   "source": [
    "print hashStr('a')\n",
    "print hashStr('John is a cool dude')"
   ]
  },
  {
   "cell_type": "code",
   "execution_count": 8,
   "metadata": {
    "collapsed": false
   },
   "outputs": [
    {
     "name": "stdout",
     "output_type": "stream",
     "text": [
      "2\n",
      "3\n",
      "5\n"
     ]
    }
   ],
   "source": [
    "print hashStr('Eric', 7)\n",
    "print hashStr('Chris', 7)\n",
    "print hashStr('Sarina', 7)"
   ]
  },
  {
   "cell_type": "markdown",
   "metadata": {},
   "source": [
    "### How do you solve a collision problem? \n",
    "\n",
    "Initializing each element of the hash table to be an empty list, which is called a hash bucket. \n",
    "\n",
    "But you will run into the trade-off between time and space:\n",
    "\n",
    "Large table, fewer collision, quicker look up. \n",
    "\n",
    "Small table, more collision, slower look up. "
   ]
  },
  {
   "cell_type": "markdown",
   "metadata": {},
   "source": [
    "### But what is the likelihood of collision?  --  Class Index Example"
   ]
  },
  {
   "cell_type": "code",
   "execution_count": 10,
   "metadata": {
    "collapsed": true
   },
   "outputs": [],
   "source": [
    "import random\n",
    "\n",
    "\n",
    "class intDict(object):\n",
    "    \"\"\"A dictionary with integer keys\"\"\"\n",
    "    \n",
    "    def __init__(self, numBuckets):\n",
    "        \"\"\"Create an empty dictionary\"\"\"\n",
    "        self.buckets = []\n",
    "        self.numBuckets = numBuckets\n",
    "        for i in range(numBuckets):\n",
    "            self.buckets.append([])\n",
    "            \n",
    "    def addEntry(self, dictKey, dictVal):\n",
    "        \"\"\"Assumes dictKey an int.  Adds an entry.\"\"\"\n",
    "        hashBucket = self.buckets[dictKey%self.numBuckets]\n",
    "        for i in range(len(hashBucket)):\n",
    "            if hashBucket[i][0] == dictKey:\n",
    "                hashBucket[i] = (dictKey, dictVal)\n",
    "                return\n",
    "        hashBucket.append((dictKey, dictVal))\n",
    "        \n",
    "    def getValue(self, dictKey):\n",
    "        \"\"\"Assumes dictKey an int.  Returns entry associated\n",
    "           with the key dictKey\"\"\"\n",
    "        hashBucket = self.buckets[dictKey%self.numBuckets]\n",
    "        for e in hashBucket:\n",
    "            if e[0] == dictKey:\n",
    "                return e[1]\n",
    "        return None\n",
    "    \n",
    "    def __str__(self):\n",
    "        res = ''   # Change 1\n",
    "        for b in self.buckets:\n",
    "            for t in b:\n",
    "                res = res + str(t[0]) + ':' + str(t[1]) + ','\n",
    "        return '{' + res[:-1] + '}' # Change 2"
   ]
  },
  {
   "cell_type": "markdown",
   "metadata": {},
   "source": [
    "### Use the int dict "
   ]
  },
  {
   "cell_type": "code",
   "execution_count": 11,
   "metadata": {
    "collapsed": true
   },
   "outputs": [],
   "source": [
    "D = intDict(29)\n",
    "for i in range(20):\n",
    "    #choose a random int in range(10**5)\n",
    "    key = random.choice(range(10**5))\n",
    "    D.addEntry(key, i)"
   ]
  },
  {
   "cell_type": "code",
   "execution_count": 12,
   "metadata": {
    "collapsed": false
   },
   "outputs": [
    {
     "name": "stdout",
     "output_type": "stream",
     "text": [
      "\n",
      "The buckets are:\n",
      "   []\n",
      "   []\n",
      "   []\n",
      "   [(56611, 17)]\n",
      "   [(91789, 3)]\n",
      "   []\n",
      "   [(61428, 8)]\n",
      "   [(92633, 15)]\n",
      "   []\n",
      "   []\n",
      "   []\n",
      "   [(9494, 1)]\n",
      "   [(26170, 18)]\n",
      "   [(46268, 12)]\n",
      "   []\n",
      "   [(96759, 4), (25941, 7)]\n",
      "   [(69529, 5), (80694, 13), (52593, 19)]\n",
      "   [(12777, 10)]\n",
      "   [(47955, 6)]\n",
      "   []\n",
      "   [(72317, 16)]\n",
      "   [(77132, 9)]\n",
      "   [(41811, 11)]\n",
      "   []\n",
      "   []\n",
      "   [(3389, 0), (92187, 14)]\n",
      "   []\n",
      "   []\n",
      "   [(90392, 2)]\n"
     ]
    }
   ],
   "source": [
    "print '\\n', 'The buckets are:'\n",
    "for hashBucket in D.buckets: #violates abstraction barrier\n",
    "    print '  ', hashBucket"
   ]
  },
  {
   "cell_type": "markdown",
   "metadata": {},
   "source": [
    "****"
   ]
  },
  {
   "cell_type": "markdown",
   "metadata": {},
   "source": [
    "## Lecture 4: Stochastic Programming and Statistical Thinking"
   ]
  },
  {
   "cell_type": "markdown",
   "metadata": {},
   "source": [
    "### 1. LAW OF LARGE NUMBERS"
   ]
  },
  {
   "cell_type": "code",
   "execution_count": 1,
   "metadata": {
    "collapsed": true
   },
   "outputs": [],
   "source": [
    "import random"
   ]
  },
  {
   "cell_type": "code",
   "execution_count": 2,
   "metadata": {
    "collapsed": false
   },
   "outputs": [
    {
     "name": "stdout",
     "output_type": "stream",
     "text": [
      "Populating the interactive namespace from numpy and matplotlib\n"
     ]
    },
    {
     "name": "stderr",
     "output_type": "stream",
     "text": [
      "WARNING: pylab import has clobbered these variables: ['random', 'pylab']\n",
      "`%matplotlib` prevents importing * from pylab and numpy\n"
     ]
    }
   ],
   "source": [
    "import pylab\n",
    "\n",
    "%pylab inline"
   ]
  },
  {
   "cell_type": "code",
   "execution_count": 3,
   "metadata": {
    "collapsed": true
   },
   "outputs": [],
   "source": [
    "# flip coin function\n",
    "\n",
    "#set line width\n",
    "pylab.rcParams['lines.linewidth'] = 6\n",
    "#set font size for titles \n",
    "pylab.rcParams['axes.titlesize'] = 20\n",
    "#set font size for labels on axes\n",
    "pylab.rcParams['axes.labelsize'] = 20\n",
    "#set size of numbers on x-axis\n",
    "pylab.rcParams['xtick.major.size'] = 5\n",
    "#set size of numbers on y-axis\n",
    "pylab.rcParams['ytick.major.size'] = 5"
   ]
  },
  {
   "cell_type": "code",
   "execution_count": 4,
   "metadata": {
    "collapsed": true
   },
   "outputs": [],
   "source": [
    "def flip(numFlips):\n",
    "    heads = 0\n",
    "    for i in range(numFlips):\n",
    "        if random.random() < 0.5:\n",
    "            heads += 1\n",
    "    return heads/float(numFlips)"
   ]
  },
  {
   "cell_type": "code",
   "execution_count": 5,
   "metadata": {
    "collapsed": true
   },
   "outputs": [],
   "source": [
    "def flipPlot(minExp, maxExp):\n",
    "    \"\"\"Assumes minExp and maxExp positive integers; minExp < maxExp\n",
    "       Plots results of 2**minExp to 2**maxExp coin flips\"\"\"\n",
    "    ratios = []\n",
    "    diffs = []\n",
    "    xAxis = []\n",
    "    for exp in range(minExp, maxExp + 1):\n",
    "        xAxis.append(2**exp)\n",
    "    for numFlips in xAxis:\n",
    "        numHeads = 0\n",
    "        for n in range(numFlips):\n",
    "            if random.random() < 0.5:\n",
    "                numHeads += 1\n",
    "        numTails = numFlips - numHeads\n",
    "        ratios.append(numHeads/float(numTails))\n",
    "        diffs.append(abs(numHeads - numTails))\n",
    "    pylab.title('Difference Between Heads and Tails')\n",
    "    pylab.xlabel('Number of Flips')\n",
    "    pylab.ylabel('Abs(#Heads - #Tails)')\n",
    "    pylab.plot(xAxis, diffs)\n",
    "    pylab.figure()\n",
    "    pylab.title('Heads/Tails Ratios')\n",
    "    pylab.xlabel('Number of Flips')\n",
    "    pylab.ylabel('Heads/Tails')\n",
    "    pylab.plot(xAxis, ratios)"
   ]
  },
  {
   "cell_type": "code",
   "execution_count": 7,
   "metadata": {
    "collapsed": false,
    "scrolled": true
   },
   "outputs": [
    {
     "data": {
      "image/png": "[encoded data removed]",
      "text/plain": [
       "<matplotlib.figure.Figure at 0x108176250>"
      ]
     },
     "metadata": {},
     "output_type": "display_data"
    },
    {
     "data": {
      "image/png": "[encoded data removed]",
      "text/plain": [
       "<matplotlib.figure.Figure at 0x10830c410>"
      ]
     },
     "metadata": {},
     "output_type": "display_data"
    }
   ],
   "source": [
    "random.seed(0)\n",
    "flipPlot(4, 20)\n",
    "pylab.show()"
   ]
  },
  {
   "cell_type": "markdown",
   "metadata": {},
   "source": [
    "Plot 1 has only isolated points, not a trend! Plot 2 has a linear scaling. "
   ]
  },
  {
   "cell_type": "code",
   "execution_count": 8,
   "metadata": {
    "collapsed": true
   },
   "outputs": [],
   "source": [
    "# improvement on the original plots\n",
    "\n",
    "\n",
    "def flipPlot(minExp, maxExp):\n",
    "    \"\"\"Assumes minExp and maxExp positive integers; minExp < maxExp\n",
    "       Plots results of 2**minExp to 2**maxExp coin flips\"\"\"\n",
    "    ratios = []\n",
    "    diffs = []\n",
    "    xAxis = []\n",
    "    for exp in range(minExp, maxExp + 1):\n",
    "        xAxis.append(2**exp)\n",
    "    for numFlips in xAxis:\n",
    "        numHeads = 0\n",
    "        for n in range(numFlips):\n",
    "            if random.random() < 0.5:\n",
    "                numHeads += 1\n",
    "        numTails = numFlips - numHeads\n",
    "        ratios.append(numHeads/float(numTails))\n",
    "        diffs.append(abs(numHeads - numTails))\n",
    "    pylab.title('Difference Between Heads and Tails')\n",
    "    pylab.xlabel('Number of Flips')\n",
    "    pylab.ylabel('Abs(#Heads - #Tails)')\n",
    "    pylab.plot(xAxis, diffs)\n",
    "    pylab.figure()\n",
    "    pylab.title('Heads/Tails Ratios')\n",
    "    pylab.xlabel('Number of Flips')\n",
    "    pylab.ylabel('Heads/Tails')\n",
    "    pylab.plot(xAxis, ratios)\n",
    "    #Additional code to produce different plots from the\n",
    "    #same data\n",
    "    pylab.figure()\n",
    "    pylab.title('Difference Between Heads and Tails')\n",
    "    pylab.xlabel('Number of Flips')\n",
    "    pylab.ylabel('Abs(#Heads - #Tails)')\n",
    "    pylab.plot(xAxis, diffs, 'bo')\n",
    "    pylab.semilogx()\n",
    "    pylab.semilogy()\n",
    "    pylab.figure()\n",
    "    pylab.title('Heads/Tails Ratios')\n",
    "    pylab.xlabel('Number of Flips')\n",
    "    pylab.ylabel('Heads/Tails')\n",
    "    pylab.plot(xAxis, ratios, 'bo')\n",
    "    pylab.semilogx()"
   ]
  },
  {
   "cell_type": "code",
   "execution_count": 9,
   "metadata": {
    "collapsed": false
   },
   "outputs": [
    {
     "data": {
      "image/png": "[encoded data removed]",
      "text/plain": [
       "<matplotlib.figure.Figure at 0x108480190>"
      ]
     },
     "metadata": {},
     "output_type": "display_data"
    },
    {
     "data": {
      "image/png": "[encoded data removed]",
      "text/plain": [
       "<matplotlib.figure.Figure at 0x108569f50>"
      ]
     },
     "metadata": {},
     "output_type": "display_data"
    },
    {
     "data": {
      "image/png": "[encoded data removed]",
      "text/plain": [
       "<matplotlib.figure.Figure at 0x1087228d0>"
      ]
     },
     "metadata": {},
     "output_type": "display_data"
    },
    {
     "data": {
      "image/png": "[encoded data removed]",
      "text/plain": [
       "<matplotlib.figure.Figure at 0x108730b50>"
      ]
     },
     "metadata": {},
     "output_type": "display_data"
    }
   ],
   "source": [
    "random.seed(0)\n",
    "flipPlot(4, 20)\n",
    "pylab.show()"
   ]
  },
  {
   "cell_type": "markdown",
   "metadata": {},
   "source": [
    " ### Observations:\n",
    " \n",
    "It's never possible to be **assured** of the perfect accuracy through sampling, unless you sample the entire population. "
   ]
  },
  {
   "cell_type": "markdown",
   "metadata": {},
   "source": [
    "### How much sampling is enough? "
   ]
  },
  {
   "cell_type": "markdown",
   "metadata": {},
   "source": [
    "Enough being have a justified confidence that you can infer from the sample to the population that the sample is drawn. ** Dependent on the varaince of the underlying population.**\n",
    "\n",
    "We measure the variance of the outcomes of multiple trails. "
   ]
  },
  {
   "cell_type": "code",
   "execution_count": 11,
   "metadata": {
    "collapsed": false
   },
   "outputs": [
    {
     "name": "stdout",
     "output_type": "stream",
     "text": [
      "Populating the interactive namespace from numpy and matplotlib\n"
     ]
    },
    {
     "name": "stderr",
     "output_type": "stream",
     "text": [
      "WARNING: pylab import has clobbered these variables: ['pylab']\n",
      "`%matplotlib` prevents importing * from pylab and numpy\n"
     ]
    }
   ],
   "source": [
    "import pylab\n",
    "\n",
    "%pylab inline\n",
    "\n",
    "#set line width\n",
    "pylab.rcParams['lines.linewidth'] = 6\n",
    "#set font size for titles \n",
    "pylab.rcParams['axes.titlesize'] = 20\n",
    "#set font size for labels on axes\n",
    "pylab.rcParams['axes.labelsize'] = 20\n",
    "#set size of numbers on x-axis\n",
    "pylab.rcParams['xtick.major.size'] = 5\n",
    "#set size of numbers on y-axis\n",
    "pylab.rcParams['ytick.major.size'] = 5"
   ]
  },
  {
   "cell_type": "code",
   "execution_count": 12,
   "metadata": {
    "collapsed": true
   },
   "outputs": [],
   "source": [
    "import random"
   ]
  },
  {
   "cell_type": "code",
   "execution_count": 13,
   "metadata": {
    "collapsed": true
   },
   "outputs": [],
   "source": [
    "def stdDev(X):\n",
    "    mean = sum(X)/float(len(X))\n",
    "    tot = 0.0\n",
    "    for x in X:\n",
    "        tot += (x - mean)**2\n",
    "    return (tot/len(X))**0.5"
   ]
  },
  {
   "cell_type": "code",
   "execution_count": 17,
   "metadata": {
    "collapsed": true
   },
   "outputs": [],
   "source": [
    "def runTrial(numFlips):\n",
    "    numHeads = 0\n",
    "    for n in range(numFlips):\n",
    "        if random.random() < 0.5:\n",
    "            numHeads += 1\n",
    "    numTails = numFlips - numHeads\n",
    "    return numHeads, numTails\n",
    "\n",
    "def flipPlot(minExp, maxExp, numTrials):\n",
    "    meanRatios = []\n",
    "    meanDiffs = []\n",
    "    ratiosSDs =  []\n",
    "    diffsSDs =  []\n",
    "    xAxis = []\n",
    "    for exp in range(minExp, maxExp + 1):\n",
    "        xAxis.append(2**exp)\n",
    "    for numFlips in xAxis:\n",
    "        ratios = []\n",
    "        diffs = []\n",
    "        for t in range(numTrials):\n",
    "            numHeads, numTails = runTrial(numFlips)\n",
    "            ratios.append(numHeads/float(numTails))\n",
    "            diffs.append(abs(numHeads - numTails))\n",
    "        meanRatios.append(sum(ratios)/numTrials)\n",
    "        meanDiffs.append(sum(diffs)/numTrials)\n",
    "        ratiosSDs.append(stdDev(ratios))\n",
    "        diffsSDs.append(stdDev(diffs))\n",
    "    pylab.plot(xAxis, meanRatios, 'bo')\n",
    "    pylab.title('Mean Heads/Tails Ratios ('\n",
    "                + str(numTrials) + ' Trials)')\n",
    "    pylab.xlabel('Number of Flips')\n",
    "    pylab.ylabel('Mean Heads/Tails')\n",
    "    pylab.semilogx()\n",
    "    pylab.figure()\n",
    "    pylab.plot(xAxis, ratiosSDs, 'bo')\n",
    "    pylab.title('SD Heads/Tails Ratios ('\n",
    "                + str(numTrials) + ' Trials)')\n",
    "    pylab.xlabel('Number of Flips')\n",
    "    pylab.ylabel('Standard Deviation')\n",
    "    pylab.semilogx()\n",
    "    pylab.semilogy()"
   ]
  },
  {
   "cell_type": "code",
   "execution_count": 18,
   "metadata": {
    "collapsed": false
   },
   "outputs": [
    {
     "data": {
      "image/png": "[encoded data removed]",
      "text/plain": [
       "<matplotlib.figure.Figure at 0x109803d10>"
      ]
     },
     "metadata": {},
     "output_type": "display_data"
    },
    {
     "data": {
      "image/png": "[encoded data removed]",
      "text/plain": [
       "<matplotlib.figure.Figure at 0x1097de910>"
      ]
     },
     "metadata": {},
     "output_type": "display_data"
    }
   ],
   "source": [
    "flipPlot(4, 20, 20)\n",
    "pylab.show()"
   ]
  },
  {
   "cell_type": "markdown",
   "metadata": {},
   "source": [
    "The standard deviation drop linearly with the increase of the number of flip. "
   ]
  },
  {
   "cell_type": "code",
   "execution_count": 16,
   "metadata": {
    "collapsed": true
   },
   "outputs": [],
   "source": [
    "def flipPlot2(minExp, maxExp, numTrials):\n",
    "    meanRatios = []\n",
    "    meanDiffs = []\n",
    "    ratiosSDs =  []\n",
    "    diffsSDs =  []\n",
    "    xAxis = []\n",
    "    for exp in range(minExp, maxExp + 1):\n",
    "        xAxis.append(2**exp)\n",
    "    for numFlips in xAxis:\n",
    "        ratios = []\n",
    "        diffs = []\n",
    "        for t in range(numTrials):\n",
    "            numHeads, numTails = runTrial(numFlips)\n",
    "            ratios.append(numHeads/float(numTails))\n",
    "            diffs.append(abs(numHeads - numTails))\n",
    "        meanRatios.append(sum(ratios)/numTrials)\n",
    "        meanDiffs.append(sum(diffs)/numTrials)\n",
    "        ratiosSDs.append(stdDev(ratios))\n",
    "        diffsSDs.append(stdDev(diffs))\n",
    "    pylab.plot(xAxis, meanRatios, 'bo')\n",
    "    pylab.title('Mean Heads/Tails Ratios ('\n",
    "                + str(numTrials) + ' Trials)')\n",
    "    pylab.xlabel('Number of Flips')\n",
    "    pylab.ylabel('Mean Heads/Tails')\n",
    "    pylab.semilogx()\n",
    "    pylab.figure()\n",
    "    pylab.plot(xAxis, ratiosSDs, 'bo')\n",
    "    pylab.title('SD Heads/Tails Ratios ('\n",
    "                + str(numTrials) + ' Trials)')\n",
    "    pylab.xlabel('Number of Flips')\n",
    "    pylab.ylabel('Standard Deviation')\n",
    "    pylab.semilogx()\n",
    "    pylab.semilogy()\n",
    "    #Additional code to look at difference in abolute\n",
    "    #number of heads and tails\n",
    "    pylab.figure()\n",
    "    pylab.title('Mean abs(#Heads - #Tails) ('\n",
    "                + str(numTrials) + ' Trials)')\n",
    "    pylab.xlabel('Number of Flips')\n",
    "    pylab.ylabel('Mean abs(#Heads - #Tails')\n",
    "    pylab.plot(xAxis, meanDiffs, 'bo')\n",
    "    pylab.semilogx()\n",
    "    pylab.semilogy()\n",
    "    pylab.figure()\n",
    "    pylab.plot(xAxis, diffsSDs, 'bo')\n",
    "    pylab.title('SD abs(#Heads - #Tails) ('\n",
    "                + str(numTrials) + ' Trials)')\n",
    "    pylab.xlabel('Number of Flips')\n",
    "    pylab.ylabel('Standard Deviation')\n",
    "    pylab.semilogx()\n",
    "    pylab.semilogy()"
   ]
  },
  {
   "cell_type": "code",
   "execution_count": 19,
   "metadata": {
    "collapsed": false
   },
   "outputs": [
    {
     "data": {
      "image/png": "[encoded data removed]",
      "text/plain": [
       "<matplotlib.figure.Figure at 0x1098033d0>"
      ]
     },
     "metadata": {},
     "output_type": "display_data"
    },
    {
     "data": {
      "image/png": "[encoded data removed]",
      "text/plain": [
       "<matplotlib.figure.Figure at 0x109020f10>"
      ]
     },
     "metadata": {},
     "output_type": "display_data"
    },
    {
     "data": {
      "image/png": "[encoded data removed]",
      "text/plain": [
       "<matplotlib.figure.Figure at 0x10877cd50>"
      ]
     },
     "metadata": {},
     "output_type": "display_data"
    },
    {
     "data": {
      "image/png": "[encoded data removed]",
      "text/plain": [
       "<matplotlib.figure.Figure at 0x1098ded50>"
      ]
     },
     "metadata": {},
     "output_type": "display_data"
    }
   ],
   "source": [
    "flipPlot2(4, 20, 20)\n",
    "pylab.show()"
   ]
  },
  {
   "cell_type": "markdown",
   "metadata": {},
   "source": [
    "1. Plot 1, there are some variation around small number of trails (left) and then it stabilized. \n",
    "\n",
    "2. Plot 2, with the increase of # of trails, the standard deviation drop linearly and drastically. \n",
    "\n",
    "3. Plot 3, absolute Mean difference increase.  \n",
    "\n",
    "4. Why does the SD increase with the increase of number of flips? Does that means we have less confidence? **NO.**\n",
    "\n",
    "**The standard deviation should always be viewed in the context of the means.** the number of trails increase to the billion and SD increase to the million, which means the dispersion of the data is small. (Recall plot 3, the abs mean increases too.)\n",
    "\n",
    "#### Note: You should not compare the difference in standard deviation when you have difference means. "
   ]
  },
  {
   "cell_type": "markdown",
   "metadata": {},
   "source": [
    "### Standard Deviation and Histograms"
   ]
  },
  {
   "cell_type": "markdown",
   "metadata": {},
   "source": [
    "Question, how do you compare the SD of two samples with different means?\n",
    "\n",
    "**Answer: Coefficient of Variation (CV)** take the standard deviation and devided by the mean. \n",
    "\n",
    "The coefficient of variation is the standard deviation divided by the mean. Loosely, it's a measure of how variable the population is in relation to the mean."
   ]
  },
  {
   "cell_type": "markdown",
   "metadata": {},
   "source": [
    "From [wiki CV](https://en.wikipedia.org/wiki/Coefficient_of_variation):\n",
    "\n",
    "In probability theory and statistics, the coefficient of variation (CV), also known as relative standard deviation (RSD), is a standardized measure of dispersion of a probability distribution or frequency distribution. It is often expressed as a percentage, and is defined as the ratio of the standard deviation $sigma$  to the mean \\ \\mu  (or its absolute value, | \\mu |). \n"
   ]
  },
  {
   "cell_type": "markdown",
   "metadata": {},
   "source": [
    "Our goal is to look at the variation relative to the mean. "
   ]
  },
  {
   "cell_type": "code",
   "execution_count": 38,
   "metadata": {
    "collapsed": true
   },
   "outputs": [],
   "source": [
    "def CV(X):\n",
    "    mean = sum(X)/float(len(X))\n",
    "    try:\n",
    "        return stdDev(X)/mean\n",
    "    except ZeroDivisionError:\n",
    "        return float('NaN')"
   ]
  },
  {
   "cell_type": "code",
   "execution_count": 25,
   "metadata": {
    "collapsed": true
   },
   "outputs": [],
   "source": [
    "def flip(numFlips):\n",
    "    heads = 0.0\n",
    "    for i in range(numFlips):\n",
    "        if random.random() < 0.5:\n",
    "            heads += 1.0\n",
    "    return heads/numFlips\n",
    "\n",
    "def flipSim(numFlipsPerTrial, numTrials):\n",
    "    fracHeads = []\n",
    "    for i in range(numTrials):\n",
    "        fracHeads.append(flip(numFlipsPerTrial))\n",
    "    mean = sum(fracHeads)/len(fracHeads)\n",
    "    sd = stdDev(fracHeads)\n",
    "    return (fracHeads, mean, sd)\n",
    "\n",
    "# flipSim is a lot shorter because the plotting is moved\n",
    "# to the other function. \n",
    "\n",
    "def labelPlot(numFlips, numTrials, mean, sd):\n",
    "    pylab.title(str(numTrials) + ' trials of '\n",
    "                + str(numFlips) + ' flips each')\n",
    "    pylab.xlabel('Fraction of Heads')\n",
    "    pylab.ylabel('Number of Trials')\n",
    "    xmin, xmax = pylab.xlim()\n",
    "    ymin, ymax = pylab.ylim()\n",
    "    pylab.text(xmin + (xmax-xmin)*0.02, (ymax-ymin)/2,\n",
    "               'Mean = ' + str(round(mean, 4))\n",
    "               + '\\nSD = ' + str(round(sd, 4)))\n",
    "\n",
    "    # put a text box relative to the axis \n",
    "\n",
    "def makePlots(numFlips1, numFlips2, numTrials):\n",
    "    val1, mean1, sd1 = flipSim(numFlips1, numTrials)\n",
    "    pylab.hist(val1, bins = 21)\n",
    "    xmin,xmax = pylab.xlim()\n",
    "    ymin,ymax = pylab.ylim()\n",
    "    labelPlot(numFlips1, numTrials, mean1, sd1)\n",
    "    pylab.figure()\n",
    "    val2, mean2, sd2 = flipSim(numFlips2, numTrials)\n",
    "    pylab.hist(val2, bins = 21)\n",
    "    pylab.xlim(xmin, xmax)\n",
    "    ymin, ymax = pylab.ylim()\n",
    "    labelPlot(numFlips2, numTrials, mean2, sd2)\n",
    "    \n",
    "# labeling and contruction of the plot is seprate this time. "
   ]
  },
  {
   "cell_type": "code",
   "execution_count": 26,
   "metadata": {
    "collapsed": false
   },
   "outputs": [
    {
     "data": {
      "image/png": "[encoded data removed]",
      "text/plain": [
       "<matplotlib.figure.Figure at 0x109cf7690>"
      ]
     },
     "metadata": {},
     "output_type": "display_data"
    },
    {
     "data": {
      "image/png": "[encoded data removed]",
      "text/plain": [
       "<matplotlib.figure.Figure at 0x109f88e50>"
      ]
     },
     "metadata": {},
     "output_type": "display_data"
    }
   ],
   "source": [
    "pylab.seed(0)    \n",
    "makePlots(100,1000,100000)\n",
    "pylab.show()"
   ]
  },
  {
   "cell_type": "markdown",
   "metadata": {},
   "source": [
    "The means doesn't differ a lot but look at that standard deviation. Second one is a much more \"tighter\" distribution of this. "
   ]
  },
  {
   "cell_type": "markdown",
   "metadata": {},
   "source": [
    "***"
   ]
  },
  {
   "cell_type": "markdown",
   "metadata": {},
   "source": [
    "### Produce a histogram:"
   ]
  },
  {
   "cell_type": "code",
   "execution_count": 24,
   "metadata": {
    "collapsed": false
   },
   "outputs": [
    {
     "name": "stdout",
     "output_type": "stream",
     "text": [
      "x-range = 0.0 - 1.0\n",
      "y-range = 0.0 - 10000.0\n"
     ]
    },
    {
     "data": {
      "image/png": "[encoded data removed]",
      "text/plain": [
       "<matplotlib.figure.Figure at 0x109cf7d50>"
      ]
     },
     "metadata": {},
     "output_type": "display_data"
    }
   ],
   "source": [
    "vals = []\n",
    "for i in range(100000):\n",
    "    num = random.random()\n",
    "    vals.append(num)\n",
    "pylab.hist(vals, bins = 11)\n",
    "xmin, xmax = pylab.xlim() # invoke with no argument\n",
    "ymin, ymax = pylab.ylim()\n",
    "print 'x-range =', xmin, '-', xmax # see what is the min and max of the axis\n",
    "print 'y-range =', ymin, '-', ymax\n",
    "pylab.figure\n",
    "pylab.hist(vals, bins = 11)\n",
    "pylab.xlim(-1.0, 2.0) # modify the x axis\n",
    "pylab.show()"
   ]
  },
  {
   "cell_type": "markdown",
   "metadata": {},
   "source": [
    "***"
   ]
  },
  {
   "cell_type": "markdown",
   "metadata": {},
   "source": [
    "### L4 PROBLEM 3"
   ]
  },
  {
   "cell_type": "markdown",
   "metadata": {},
   "source": [
    "Write a function, ```python stdDevOfLengths(L)``` that **takes in a list of strings, L, and outputs the standard deviation of the lengths of the strings.** Return float('NaN') if L is empty."
   ]
  },
  {
   "cell_type": "code",
   "execution_count": 45,
   "metadata": {
    "collapsed": true
   },
   "outputs": [],
   "source": [
    "def stdDevOfLengths(L):\n",
    "    \"\"\"\n",
    "    L: a list of strings\n",
    "\n",
    "    returns: float, the standard deviation of the lengths of the strings,\n",
    "      or NaN if L is empty.\n",
    "    \"\"\"\n",
    "    if (len(L) == 0):\n",
    "        return float('NaN')\n",
    "    \n",
    "    # compute mean first\n",
    "    sumVals = 0\n",
    "    for s in L:\n",
    "        sumVals += len(s)\n",
    "    meanVals = sumVals / float(len(L))\n",
    "\n",
    "    # compute variance (average squared deviation from mean)\n",
    "    sumDevSquared = 0\n",
    "    for s in L:\n",
    "        sumDevSquared += (len(s) - meanVals)**2\n",
    "    variance = sumDevSquared / float(len(L))\n",
    "\n",
    "    # standard deviation is the square root of the variance\n",
    "    stdDev = variance**(.5)\n",
    "\n",
    "    return stdDev"
   ]
  },
  {
   "cell_type": "code",
   "execution_count": 47,
   "metadata": {
    "collapsed": true
   },
   "outputs": [],
   "source": [
    "# using listcomps\n",
    "def stdDevOfLengths2(L):\n",
    "    n = float(len(L))\n",
    "    if (n == 0):\n",
    "        return float('NaN')\n",
    "    lengths    = [len(s) for s in L]\n",
    "    mean       = sum(lengths) / n\n",
    "    squaredDev = [(l-mean)**2 for l in lengths]\n",
    "    variance   = sum(squaredDev) / n    \n",
    "    return variance**(.5)"
   ]
  },
  {
   "cell_type": "code",
   "execution_count": 48,
   "metadata": {
    "collapsed": true
   },
   "outputs": [],
   "source": [
    "# using a separate function for std dev from lecture video\n",
    "def stdDev(X):\n",
    "    mean = sum(X) / float(len(X))\n",
    "    tot = 0.0\n",
    "    for x in X:\n",
    "        tot += (x - mean)**2\n",
    "    return (tot/len(X))**0.5\n",
    "\n",
    "def stdDevOfLengths3(L):\n",
    "    n = len(L)\n",
    "    if (n == 0):\n",
    "        return float('NaN')\n",
    "    X = []\n",
    "    for s in L:\n",
    "        X.append(len(s))\n",
    "    return stdDev(X)"
   ]
  },
  {
   "cell_type": "code",
   "execution_count": 42,
   "metadata": {
    "collapsed": true
   },
   "outputs": [],
   "source": [
    "L = ['a', 'z', 'p']"
   ]
  },
  {
   "cell_type": "code",
   "execution_count": 46,
   "metadata": {
    "collapsed": false
   },
   "outputs": [
    {
     "data": {
      "text/plain": [
       "0.0"
      ]
     },
     "execution_count": 46,
     "metadata": {},
     "output_type": "execute_result"
    }
   ],
   "source": [
    "stdDevOfLengths(L)"
   ]
  },
  {
   "cell_type": "markdown",
   "metadata": {},
   "source": [
    "### L4 PROBLEM 4"
   ]
  },
  {
   "cell_type": "code",
   "execution_count": 40,
   "metadata": {
    "collapsed": true
   },
   "outputs": [],
   "source": [
    "a = [1,2,3]\n",
    "b = [11,12,13]\n",
    "c = [0.1,0.1,0.1]\n",
    "\n",
    "d = [10, 4, 12, 15, 20, 5]"
   ]
  },
  {
   "cell_type": "code",
   "execution_count": 39,
   "metadata": {
    "collapsed": false
   },
   "outputs": [
    {
     "name": "stdout",
     "output_type": "stream",
     "text": [
      "0.408248290464 0.068041381744 1.38777878078e-16\n"
     ]
    }
   ],
   "source": [
    "print CV(a), CV(b), CV(c)"
   ]
  },
  {
   "cell_type": "code",
   "execution_count": 41,
   "metadata": {
    "collapsed": false
   },
   "outputs": [
    {
     "data": {
      "text/plain": [
       "0.50343174926776213"
      ]
     },
     "execution_count": 41,
     "metadata": {},
     "output_type": "execute_result"
    }
   ],
   "source": [
    "CV(d)"
   ]
  },
  {
   "cell_type": "markdown",
   "metadata": {},
   "source": [
    "# **When will CV be invalid?**\n",
    "\n",
    "Coefficient of Variation should only be computed on ratio scales (i.e., data where there is a \"true\" zero, like temperatures in Kelvin, or heights, or sizes of populations, etc). Coefficient of Variation may not be meaningful for data that does not have a \"true\" zero."
   ]
  },
  {
   "cell_type": "markdown",
   "metadata": {
    "collapsed": true
   },
   "source": [
    "***"
   ]
  },
  {
   "cell_type": "markdown",
   "metadata": {},
   "source": [
    "## Problem Set 2"
   ]
  },
  {
   "cell_type": "markdown",
   "metadata": {},
   "source": [
    "Note to self: When submit, better submit the whole thing. "
   ]
  },
  {
   "cell_type": "code",
   "execution_count": 27,
   "metadata": {
    "collapsed": true
   },
   "outputs": [],
   "source": [
    "# 6.00.2x Problem Set 2: Simulating robots\n",
    "\n",
    "import math\n",
    "import random\n",
    "\n",
    "import ps2_visualize\n",
    "import pylab\n",
    "\n",
    "# For Python 2.7:\n",
    "from ps2_verify_movement27 import testRobotMovement"
   ]
  },
  {
   "cell_type": "markdown",
   "metadata": {},
   "source": [
    "**Position**\n",
    "Stores the x- and y-coordinates of a robot in a room."
   ]
  },
  {
   "cell_type": "code",
   "execution_count": 1,
   "metadata": {
    "collapsed": true
   },
   "outputs": [],
   "source": [
    "# === Provided class Position\n",
    "class Position(object):\n",
    "    \"\"\"\n",
    "    A Position represents a location in a two-dimensional room.\n",
    "    \"\"\"\n",
    "    def __init__(self, x, y):\n",
    "        \"\"\"\n",
    "        Initializes a position with coordinates (x, y).\n",
    "        \"\"\"\n",
    "        self.x = x\n",
    "        self.y = y\n",
    "        \n",
    "    def getX(self):\n",
    "        return self.x\n",
    "    \n",
    "    def getY(self):\n",
    "        return self.y\n",
    "    \n",
    "    def getNewPosition(self, angle, speed):\n",
    "        \"\"\"\n",
    "        Computes and returns the new Position after a single clock-tick has\n",
    "        passed, with this object as the current position, and with the\n",
    "        specified angle and speed.\n",
    "\n",
    "        Does NOT test whether the returned position fits inside the room.\n",
    "\n",
    "        angle: number representing angle in degrees, 0 <= angle < 360\n",
    "        speed: positive float representing speed\n",
    "\n",
    "        Returns: a Position object representing the new position.\n",
    "        \"\"\"\n",
    "        old_x, old_y = self.getX(), self.getY()\n",
    "        angle = float(angle)\n",
    "        # Compute the change in position\n",
    "        delta_y = speed * math.cos(math.radians(angle))\n",
    "        delta_x = speed * math.sin(math.radians(angle))\n",
    "        # Add that to the existing position\n",
    "        new_x = old_x + delta_x\n",
    "        new_y = old_y + delta_y\n",
    "        return Position(new_x, new_y)\n",
    "\n",
    "    def __str__(self):  \n",
    "        return \"(%0.2f, %0.2f)\" % (self.x, self.y)\n"
   ]
  },
  {
   "cell_type": "markdown",
   "metadata": {},
   "source": [
    "### Problem 1: RectangularRoom Class"
   ]
  },
  {
   "cell_type": "markdown",
   "metadata": {},
   "source": [
    "In this problem you will implement two classes, RectangularRoom on this page and Robot on the next.\n",
    "\n",
    "For the RectangularRoom class, decide what fields you will use and decide how the following operations are to be performed:\n",
    "\n",
    "- Initializing the object\n",
    "\n",
    "- Marking an appropriate tile as cleaned when a robot moves to a given position (casting floats to ints - and/or the function math.floor - may be useful to you here)\n",
    "\n",
    "- Determining if a given tile has been cleaned\n",
    "\n",
    "- Determining how many tiles there are in the room\n",
    "\n",
    "- Determining how many cleaned tiles there are in the room\n",
    "\n",
    "- Getting a random position in the room\n",
    "\n",
    "- Determining if a given position is in the room"
   ]
  },
  {
   "cell_type": "code",
   "execution_count": 5,
   "metadata": {
    "collapsed": true
   },
   "outputs": [],
   "source": [
    "class RectangularRoom(object):\n",
    "    \"\"\"\n",
    "    A RectangularRoom represents a rectangular region containing clean or dirty\n",
    "    tiles.\n",
    "\n",
    "    A room has a width and a height and contains (width * height) tiles. At any\n",
    "    particular time, each of these tiles is either clean or dirty.\n",
    "    \"\"\"\n",
    "    DIRTY = 0\n",
    "    CLEAN = 1    \n",
    "\n",
    "    def __init__(self, width, height):\n",
    "        \"\"\"\n",
    "        Initializes a rectangular room with the specified width and height.\n",
    "\n",
    "        Initially, no tiles in the room have been cleaned.\n",
    "\n",
    "        width: an integer > 0\n",
    "        height: an integer > 0\n",
    "        \"\"\"\n",
    "        \n",
    "        self.width = width\n",
    "        self.height = height\n",
    "        self.room = {}\n",
    "        for r in range(0, width):\n",
    "            for c in range(0, height):\n",
    "                self.room[(r,c)] = RectangularRoom.DIRTY\n",
    "    \n",
    "    def cleanTileAtPosition(self, pos):\n",
    "        \"\"\"\n",
    "        Mark the tile under the position POS as cleaned.\n",
    "\n",
    "        Assumes that POS represents a valid position inside this room.\n",
    "\n",
    "        pos: a Position\n",
    "        \"\"\"\n",
    "        \n",
    "        x = int(pos.x)\n",
    "        y = int(pos.y)\n",
    "        self.room[(x, y)] = RectangularRoom.CLEAN\n",
    "\n",
    "    def isTileCleaned(self, m, n):\n",
    "        \"\"\"\n",
    "        Return True if the tile (m, n) has been cleaned.\n",
    "\n",
    "        Assumes that (m, n) represents a valid tile inside the room.\n",
    "\n",
    "        m: an integer\n",
    "        n: an integer\n",
    "        returns: True if (m, n) is cleaned, False otherwise\n",
    "        \"\"\"\n",
    "        \n",
    "        if self.room[(m, n)] == RectangularRoom.CLEAN:\n",
    "            return True\n",
    "        else:\n",
    "            return False\n",
    "    \n",
    "    def getNumTiles(self):\n",
    "        \"\"\"\n",
    "        Return the total number of tiles in the room.\n",
    "\n",
    "        returns: an integer\n",
    "        \"\"\"\n",
    "        return len(self.room)\n",
    "\n",
    "    def getNumCleanedTiles(self):\n",
    "        \"\"\"\n",
    "        Return the total number of clean tiles in the room.\n",
    "\n",
    "        returns: an integer\n",
    "        \"\"\"\n",
    "        \n",
    "        cleanRooms = 0\n",
    "\n",
    "        for k in self.room:\n",
    "            if self.room[k] == RectangularRoom.CLEAN:\n",
    "                cleanRooms += 1\n",
    "        return cleanRooms\n",
    "\n",
    "    def getRandomPosition(self):\n",
    "        \"\"\"\n",
    "        Return a random position inside the room.\n",
    "\n",
    "        returns: a Position object.\n",
    "        \"\"\"\n",
    "        x = random.randint(0, self.width-1)\n",
    "        y = random.randint(0, self.height-1)\n",
    "        return Position(x, y)\n",
    "\n",
    "    def isPositionInRoom(self, pos):\n",
    "        \"\"\"\n",
    "        Return True if pos is inside the room.\n",
    "\n",
    "        pos: a Position object.\n",
    "        returns: True if pos is in the room, False otherwise.\n",
    "        \"\"\"\n",
    "        if pos.x >= 0 and pos.y >= 0:\n",
    "            x = math.floor(pos.x)\n",
    "            y = math.floor(pos.y)\n",
    "            if (x, y) in self.room:\n",
    "                return True\n",
    "            else:\n",
    "                return False"
   ]
  },
  {
   "cell_type": "code",
   "execution_count": 8,
   "metadata": {
    "collapsed": false
   },
   "outputs": [
    {
     "data": {
      "text/plain": [
       "25"
      ]
     },
     "execution_count": 8,
     "metadata": {},
     "output_type": "execute_result"
    }
   ],
   "source": [
    "# Create a room of size 25\n",
    "\n",
    "room = RectangularRoom(5, 5)\n",
    "room.getNumTiles() "
   ]
  },
  {
   "cell_type": "code",
   "execution_count": 9,
   "metadata": {
    "collapsed": true
   },
   "outputs": [],
   "source": [
    "# creates a number of randomly sized rooms and checks \n",
    "# the number of tiles by calling room.getNumTiles(). "
   ]
  },
  {
   "cell_type": "code",
   "execution_count": 10,
   "metadata": {
    "collapsed": true
   },
   "outputs": [],
   "source": [
    "room = RectangularRoom(9, 4)\n",
    "room = RectangularRoom(19, 8)\n",
    "room = RectangularRoom(5, 3)\n",
    "room = RectangularRoom(2, 3)\n",
    "room = RectangularRoom(11, 10)"
   ]
  },
  {
   "cell_type": "code",
   "execution_count": 11,
   "metadata": {
    "collapsed": false
   },
   "outputs": [
    {
     "data": {
      "text/plain": [
       "110"
      ]
     },
     "execution_count": 11,
     "metadata": {},
     "output_type": "execute_result"
    }
   ],
   "source": [
    "room.getNumTiles()"
   ]
  },
  {
   "cell_type": "code",
   "execution_count": 12,
   "metadata": {
    "collapsed": true
   },
   "outputs": [],
   "source": [
    "# This tests that all squares are properly marked as unclean\n",
    "# by calling the isTileCleaned() and getNumCleanedTiles() methods.\n",
    "\n",
    "room = RectangularRoom(4,6)"
   ]
  },
  {
   "cell_type": "code",
   "execution_count": 19,
   "metadata": {
    "collapsed": false
   },
   "outputs": [
    {
     "data": {
      "text/plain": [
       "False"
      ]
     },
     "execution_count": 19,
     "metadata": {},
     "output_type": "execute_result"
    }
   ],
   "source": [
    "room.isTileCleaned(1,4)"
   ]
  },
  {
   "cell_type": "code",
   "execution_count": 20,
   "metadata": {
    "collapsed": true
   },
   "outputs": [],
   "source": [
    "# This test creates a randomly sized room and checks the\n",
    "# number of clean tiles by calling room.getNumCleanTiles(). \n",
    "# Then, the tiles in the room are cleaned and the check is performed again.\n",
    "\n",
    "room = RectangularRoom(6, 5)"
   ]
  },
  {
   "cell_type": "code",
   "execution_count": 21,
   "metadata": {
    "collapsed": false
   },
   "outputs": [
    {
     "data": {
      "text/plain": [
       "0"
      ]
     },
     "execution_count": 21,
     "metadata": {},
     "output_type": "execute_result"
    }
   ],
   "source": [
    "room.getNumCleanedTiles()"
   ]
  },
  {
   "cell_type": "markdown",
   "metadata": {},
   "source": [
    "### Problem 1: Robot Class"
   ]
  },
  {
   "cell_type": "markdown",
   "metadata": {},
   "source": [
    "For the Robot class, decide what fields you will use and decide how the following operations are to be performed:\n",
    "\n",
    "- Initializing the object\n",
    "\n",
    "- Accessing the robot's position\n",
    "\n",
    "- Accessing the robot's direction\n",
    "\n",
    "- Setting the robot's position\n",
    "\n",
    "- Setting the robot's direction"
   ]
  },
  {
   "cell_type": "code",
   "execution_count": 22,
   "metadata": {
    "collapsed": true
   },
   "outputs": [],
   "source": [
    "class Robot(object):\n",
    "    \"\"\"\n",
    "    Represents a robot cleaning a particular room.\n",
    "    At all times the robot has a particular position and direction in the room.\n",
    "    The robot also has a fixed speed.\n",
    "    Subclasses of Robot should provide movement strategies by implementing\n",
    "    updatePositionAndClean(), which simulates a single time-step.\n",
    "    \"\"\"\n",
    "    def __init__(self, room, speed):\n",
    "        \"\"\"\n",
    "        Initializes a Robot with the given speed in the specified room. The\n",
    "        robot initially has a random direction and a random position in the\n",
    "        room. The robot cleans the tile it is on.\n",
    "        room:  a RectangularRoom object.\n",
    "        speed: a float (speed > 0)\n",
    "        \"\"\"\n",
    "        self.room = room\n",
    "        self.speed = speed\n",
    "        self.position = room.getRandomPosition()\n",
    "        self.room.cleanTileAtPosition(self.position)\n",
    "        self.direction = random.randint(0, 360-1)\n",
    "\n",
    "    def getRobotPosition(self):\n",
    "        \"\"\"\n",
    "        Return the position of the robot.\n",
    "        returns: a Position object giving the robot's position.\n",
    "        \"\"\"\n",
    "        return self.position\n",
    "    \n",
    "    def getRobotDirection(self):\n",
    "        \"\"\"\n",
    "        Return the direction of the robot.\n",
    "        returns: an integer d giving the direction of the robot as an angle in\n",
    "        degrees, 0 <= d < 360.\n",
    "        \"\"\"\n",
    "        return self.direction\n",
    "\n",
    "    def setRobotPosition(self, position):\n",
    "        \"\"\"\n",
    "        Set the position of the robot to POSITION.\n",
    "        position: a Position object.\n",
    "        \"\"\"\n",
    "        self.position = position\n",
    "\n",
    "    def setRobotDirection(self, direction):\n",
    "        \"\"\"\n",
    "        Set the direction of the robot to DIRECTION.\n",
    "        direction: integer representing an angle in degrees\n",
    "        \"\"\"\n",
    "        self.direction = direction\n",
    "\n",
    "    def updatePositionAndClean(self):\n",
    "        \"\"\"\n",
    "        Simulate the raise passage of a single time-step.\n",
    "        Move the robot to a new position and mark the tile it is on as having\n",
    "        been cleaned.\n",
    "        \"\"\"\n",
    "        raise NotImplementedError # don't change this!"
   ]
  },
  {
   "cell_type": "markdown",
   "metadata": {},
   "source": [
    "### PROBLEM 2: STANDARDROBOT CLASS"
   ]
  },
  {
   "cell_type": "markdown",
   "metadata": {},
   "source": [
    "Each robot must also have some code that tells it how to move about a room, which will go in a method called updatePositionAndClean.\n",
    "\n",
    "Ordinarily we would consider putting all the robot's methods in a single class. However, later in this problem set we'll consider robots with alternate movement strategies, to be implemented as different classes with the same interface. These classes will have a different implementation of updatePositionAndClean but are for the most part the same as the original robots. Therefore, we'd like to use inheritance to reduce the amount of duplicated code.\n",
    "\n",
    "We have already refactored the robot code for you into two classes: the Robot class you completed in Problem 1 (which contains general robot code), and a StandardRobot class that inherits from it (which contains its own movement strategy).\n",
    "\n",
    "Complete the updatePositionAndClean method of StandardRobot to simulate the motion of the robot after a single time-step (as described on the Simulation Overview page)."
   ]
  },
  {
   "cell_type": "code",
   "execution_count": 23,
   "metadata": {
    "collapsed": true
   },
   "outputs": [],
   "source": [
    "class StandardRobot(Robot):\n",
    "    \"\"\"\n",
    "    A StandardRobot is a Robot with the standard movement strategy.\n",
    "    At each time-step, a StandardRobot attempts to move in its current\n",
    "    direction; when it would hit a wall, it *instead* chooses a new direction\n",
    "    randomly.\n",
    "    \"\"\"\n",
    "    def updatePositionAndClean(self):\n",
    "        \"\"\"\n",
    "        Simulate the raise passage of a single time-step.\n",
    "        Move the robot to a new position and mark the tile it is on as having\n",
    "        been cleaned.\n",
    "        \"\"\"\n",
    "        newPosition = self.position.getNewPosition(self.direction, self.speed)\n",
    "        #if robot hits the wall and newPosition is outside the room:\n",
    "        # choose random direction and get new position until it fits in the room\n",
    "        while not self.room.isPositionInRoom(newPosition):\n",
    "            self.direction = random.randint(1,359)\n",
    "            newPosition = self.position.getNewPosition(self.direction, self.speed)\n",
    "        #Position is inside the room, set robot here and clean tile\n",
    "        self.setRobotPosition(newPosition)\n",
    "        self.room.cleanTileAtPosition(newPosition)\n",
    "\n",
    "# Uncomment this line to see your implementation of StandardRobot in action!\n",
    "#testRobotMovement(StandardRobot, RectangularRoom)"
   ]
  },
  {
   "cell_type": "markdown",
   "metadata": {},
   "source": [
    "### PROBLEM 3: RUNNING THE SIMULATION"
   ]
  },
  {
   "cell_type": "markdown",
   "metadata": {},
   "source": [
    "In this problem you will write code that runs a complete robot simulation."
   ]
  },
  {
   "cell_type": "code",
   "execution_count": 25,
   "metadata": {
    "collapsed": false
   },
   "outputs": [],
   "source": [
    "def runSimulation(num_robots, speed, width, height, min_coverage, num_trials,\n",
    "                  robot_type):\n",
    "    \"\"\"\n",
    "    Runs NUM_TRIALS trials of the simulation and returns the mean number of\n",
    "    time-steps needed to clean the fraction MIN_COVERAGE of the room.\n",
    "    The simulation is run with NUM_ROBOTS robots of type ROBOT_TYPE, each with\n",
    "    speed SPEED, in a room of dimensions WIDTH x HEIGHT.\n",
    "    num_robots: an int (num_robots > 0)\n",
    "    speed: a float (speed > 0)\n",
    "    width: an int (width > 0)\n",
    "    height: an int (height > 0)\n",
    "    min_coverage: a float (0 <= min_coverage <= 1.0)\n",
    "    num_trials: an int (num_trials > 0)\n",
    "    robot_type: class of robot to be instantiated (e.g. StandardRobot or\n",
    "                RandomWalkRobot)\n",
    "    \"\"\"\n",
    "    results = []\n",
    "    for run in range(num_trials):\n",
    "        #INIT\n",
    "        room = RectangularRoom(width, height)\n",
    "        robots = [] #arr to save robots\n",
    "        for num in range(num_robots):\n",
    "            #create robots\n",
    "            robot = robot_type(room, speed)\n",
    "            robots.append(robot)\n",
    "\n",
    "        roomCoverage = room.getNumCleanedTiles() / room.getNumTiles()\n",
    "        counter = 0\n",
    "        #Make robots clean the room\n",
    "        while roomCoverage <= float(min_coverage):\n",
    "            for robo in robots:\n",
    "                robo.updatePositionAndClean()\n",
    "            roomCoverage = float(room.getNumCleanedTiles()) / room.getNumTiles()\n",
    "            counter += 1\n",
    "        results.append(counter)\n",
    "    #calculate mean\n",
    "    mean = sum(results) / len(results)\n",
    "    return float(mean)"
   ]
  },
  {
   "cell_type": "code",
   "execution_count": 28,
   "metadata": {
    "collapsed": false
   },
   "outputs": [
    {
     "data": {
      "text/plain": [
       "54.0"
      ]
     },
     "execution_count": 28,
     "metadata": {},
     "output_type": "execute_result"
    }
   ],
   "source": [
    "runSimulation(1, 1.0, 5, 5, 0.9, 30, StandardRobot)"
   ]
  },
  {
   "cell_type": "markdown",
   "metadata": {},
   "source": [
    "### Optional: VISUALIZING ROBOTS"
   ]
  },
  {
   "cell_type": "markdown",
   "metadata": {},
   "source": [
    "### PROBLEM 4: RANDOMWALKROBOT CLASS"
   ]
  },
  {
   "cell_type": "code",
   "execution_count": 29,
   "metadata": {
    "collapsed": true
   },
   "outputs": [],
   "source": [
    "class RandomWalkRobot(Robot):\n",
    "    \"\"\"\n",
    "    A RandomWalkRobot is a robot with the \"random walk\" movement strategy: it\n",
    "    chooses a new direction at random at the end of each time-step.\n",
    "    \"\"\"\n",
    "    def updatePositionAndClean(self):\n",
    "        \"\"\"\n",
    "        Simulate the passage of a single time-step.\n",
    "        Move the robot to a new position and mark the tile it is on as having\n",
    "        been cleaned.\n",
    "        \"\"\"\n",
    "        self.direction = random.randint(1,359)\n",
    "        newPosition = self.position.getNewPosition(self.direction, self.speed)\n",
    "        #if robot hits the wall and newPosition is outside the room:\n",
    "        # choose random direction and get new position until it fits in the room\n",
    "        while not self.room.isPositionInRoom(newPosition):\n",
    "            self.direction = random.randint(1,359)\n",
    "            newPosition = self.position.getNewPosition(self.direction, self.speed)\n",
    "        #Position is inside the room, set robot here and clean tile\n",
    "        self.setRobotPosition(newPosition)\n",
    "        self.room.cleanTileAtPosition(newPosition)\n",
    "\n",
    "#testRobotMovement(RandomWalkRobot, RectangularRoom)\n",
    "\n",
    "\n",
    "def showPlot1(title, x_label, y_label):\n",
    "    \"\"\"\n",
    "    What information does the plot produced by this function tell you?\n",
    "    \"\"\"\n",
    "    num_robot_range = range(1, 11)\n",
    "    times1 = []\n",
    "    times2 = []\n",
    "    for num_robots in num_robot_range:\n",
    "        print \"Plotting\", num_robots, \"robots...\"\n",
    "        times1.append(runSimulation(num_robots, 1.0, 20, 20, 0.8, 20, StandardRobot))\n",
    "        times2.append(runSimulation(num_robots, 1.0, 20, 20, 0.8, 20, RandomWalkRobot))\n",
    "    pylab.plot(num_robot_range, times1)\n",
    "    pylab.plot(num_robot_range, times2)\n",
    "    pylab.title(title)\n",
    "    pylab.legend(('StandardRobot', 'RandomWalkRobot'))\n",
    "    pylab.xlabel(x_label)\n",
    "    pylab.ylabel(y_label)\n",
    "    pylab.show()\n",
    "\n",
    "#showPlot1(\"title\", \"labeX\", \"labelY\")\n",
    "    \n",
    "def showPlot2(title, x_label, y_label):\n",
    "    \"\"\"\n",
    "    What information does the plot produced by this function tell you?\n",
    "    \"\"\"\n",
    "    aspect_ratios = []\n",
    "    times1 = []\n",
    "    times2 = []\n",
    "    for width in [10, 20, 25, 50]:\n",
    "        height = 300/width\n",
    "        print \"Plotting cleaning time for a room of width:\", width, \"by height:\", height\n",
    "        aspect_ratios.append(float(width) / height)\n",
    "        times1.append(runSimulation(2, 1.0, width, height, 0.8, 200, StandardRobot))\n",
    "        times2.append(runSimulation(2, 1.0, width, height, 0.8, 200, RandomWalkRobot))\n",
    "    pylab.plot(aspect_ratios, times1)\n",
    "    pylab.plot(aspect_ratios, times2)\n",
    "    pylab.title(title)\n",
    "    pylab.legend(('StandardRobot', 'RandomWalkRobot'))\n",
    "    pylab.xlabel(x_label)\n",
    "    pylab.ylabel(y_label)\n",
    "    pylab.show()"
   ]
  },
  {
   "cell_type": "code",
   "execution_count": null,
   "metadata": {
    "collapsed": true
   },
   "outputs": [],
   "source": []
  }
 ],
 "metadata": {
  "kernelspec": {
   "display_name": "Python 2",
   "language": "python",
   "name": "python2"
  },
  "language_info": {
   "codemirror_mode": {
    "name": "ipython",
    "version": 2
   },
   "file_extension": ".py",
   "mimetype": "text/x-python",
   "name": "python",
   "nbconvert_exporter": "python",
   "pygments_lexer": "ipython2",
   "version": "2.7.10"
  }
 },
 "nbformat": 4,
 "nbformat_minor": 0
}
