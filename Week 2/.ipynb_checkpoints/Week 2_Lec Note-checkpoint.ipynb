{
 "cells": [
  {
   "cell_type": "markdown",
   "metadata": {},
   "source": [
    "# Week 2"
   ]
  },
  {
   "cell_type": "markdown",
   "metadata": {},
   "source": [
    "## Lecture 3: Probability and Hashing"
   ]
  },
  {
   "cell_type": "markdown",
   "metadata": {},
   "source": [
    "** Stochastic Processes **"
   ]
  },
  {
   "cell_type": "markdown",
   "metadata": {},
   "source": [
    "An ongoing process where the next state might depend on _both the previous states and some random element._"
   ]
  },
  {
   "cell_type": "markdown",
   "metadata": {},
   "source": [
    "### 1. Frequentist Probability"
   ]
  },
  {
   "cell_type": "markdown",
   "metadata": {},
   "source": [
    "#### What's the probability (simulated) of rolling a dice and 5 consecutive ones?"
   ]
  },
  {
   "cell_type": "code",
   "execution_count": 2,
   "metadata": {
    "collapsed": false
   },
   "outputs": [],
   "source": [
    "import random\n",
    "\n",
    "def rollDie():\n",
    "    return random.choice([1,2,3,4,5,6])\n",
    "\n",
    "def rollN(n):\n",
    "    result = ''\n",
    "    for i in range(n):\n",
    "        result = result + str(rollDie())\n",
    "    return result"
   ]
  },
  {
   "cell_type": "code",
   "execution_count": 4,
   "metadata": {
    "collapsed": false
   },
   "outputs": [
    {
     "name": "stdout",
     "output_type": "stream",
     "text": [
      "4664154415\n"
     ]
    }
   ],
   "source": [
    "print rollN(10)"
   ]
  },
  {
   "cell_type": "code",
   "execution_count": 6,
   "metadata": {
    "collapsed": false
   },
   "outputs": [
    {
     "data": {
      "text/plain": [
       "str"
      ]
     },
     "execution_count": 6,
     "metadata": {},
     "output_type": "execute_result"
    }
   ],
   "source": [
    "type(rollN(10)) # the outcome of the rollN Simulation is a string "
   ]
  },
  {
   "cell_type": "code",
   "execution_count": 12,
   "metadata": {
    "collapsed": false
   },
   "outputs": [],
   "source": [
    "def getTarget(goal):\n",
    "    numTries = 0\n",
    "    numRolls = len(goal)\n",
    "    while True:\n",
    "        numTries += 1\n",
    "        result = rollN(numRolls)\n",
    "        if result == goal:\n",
    "            return numTries\n",
    "\n",
    "def runSim(goal, numTrials): # run sim call getTarget multiple times\n",
    "    total = 0\n",
    "    for i in range(numTrials):\n",
    "        total += getTarget(goal)\n",
    "    Average_Num_Tries =  total/float(numTrials)\n",
    "    print 'Probability =', 1.0/Average_Num_Tries"
   ]
  },
  {
   "cell_type": "code",
   "execution_count": 13,
   "metadata": {
    "collapsed": false
   },
   "outputs": [
    {
     "name": "stdout",
     "output_type": "stream",
     "text": [
      "Probability = 0.000147901864155\n"
     ]
    }
   ],
   "source": [
    "runSim('11111', 100)"
   ]
  },
  {
   "cell_type": "code",
   "execution_count": 19,
   "metadata": {
    "collapsed": true
   },
   "outputs": [],
   "source": [
    "def atLeastOneOne(numRolls, numTrials):\n",
    "    numSuccess = 0\n",
    "    for i in range(numTrials):\n",
    "        rolls = rollN(numRolls)\n",
    "        if '1' in rolls:\n",
    "            numSuccess += 1\n",
    "        fracSuccess = numSuccess/float(numTrials)\n",
    "    print fracSuccess"
   ]
  },
  {
   "cell_type": "code",
   "execution_count": 22,
   "metadata": {
    "collapsed": false
   },
   "outputs": [
    {
     "name": "stdout",
     "output_type": "stream",
     "text": [
      "0.859\n"
     ]
    }
   ],
   "source": [
    "atLeastOneOne(10, 1000)"
   ]
  },
  {
   "cell_type": "markdown",
   "metadata": {},
   "source": [
    "#### What's the probability (simulated) of rolling a dice and no ones?"
   ]
  },
  {
   "cell_type": "code",
   "execution_count": 17,
   "metadata": {
    "collapsed": false
   },
   "outputs": [
    {
     "data": {
      "text/plain": [
       "0.401877572016461"
      ]
     },
     "execution_count": 17,
     "metadata": {},
     "output_type": "execute_result"
    }
   ],
   "source": [
    "(5.0/6)**5"
   ]
  },
  {
   "cell_type": "markdown",
   "metadata": {},
   "source": [
    "** IF you have 100 students in your class today and you promised to give 100 dollar to whomever that is having his/her birthday today. What is the probability of you not paying the money?**"
   ]
  },
  {
   "cell_type": "code",
   "execution_count": 18,
   "metadata": {
    "collapsed": false
   },
   "outputs": [
    {
     "data": {
      "text/plain": [
       "0.7600670738159009"
      ]
     },
     "execution_count": 18,
     "metadata": {},
     "output_type": "execute_result"
    }
   ],
   "source": [
    "(364.0/365)**100"
   ]
  },
  {
   "cell_type": "markdown",
   "metadata": {},
   "source": [
    "### 2. Hashing"
   ]
  },
  {
   "cell_type": "code",
   "execution_count": 1,
   "metadata": {
    "collapsed": true
   },
   "outputs": [],
   "source": [
    "import random"
   ]
  },
  {
   "cell_type": "code",
   "execution_count": 2,
   "metadata": {
    "collapsed": true
   },
   "outputs": [],
   "source": [
    "def strToInt(s):\n",
    "    number = ''\n",
    "    for c in s:\n",
    "        number = number + str(ord(c))\n",
    "    index = int(number)\n",
    "    return index"
   ]
  },
  {
   "cell_type": "code",
   "execution_count": 3,
   "metadata": {
    "collapsed": false
   },
   "outputs": [
    {
     "name": "stdout",
     "output_type": "stream",
     "text": [
      "Index = 97\n"
     ]
    }
   ],
   "source": [
    "print 'Index =', strToInt('a')"
   ]
  },
  {
   "cell_type": "code",
   "execution_count": 4,
   "metadata": {
    "collapsed": false
   },
   "outputs": [
    {
     "name": "stdout",
     "output_type": "stream",
     "text": [
      "Index = 74111104110321051153297329911111110832100117100101\n"
     ]
    }
   ],
   "source": [
    "print 'Index =', strToInt('John is a cool dude')"
   ]
  },
  {
   "cell_type": "code",
   "execution_count": 6,
   "metadata": {
    "collapsed": true
   },
   "outputs": [],
   "source": [
    "def hashStr(s, tableSize = 101):\n",
    "    number = ''\n",
    "    for c in s:\n",
    "        number = number + str(ord(c))\n",
    "    index = int(number)%tableSize\n",
    "    return index"
   ]
  },
  {
   "cell_type": "code",
   "execution_count": 7,
   "metadata": {
    "collapsed": false
   },
   "outputs": [
    {
     "name": "stdout",
     "output_type": "stream",
     "text": [
      "97\n",
      "66\n"
     ]
    }
   ],
   "source": [
    "print hashStr('a')\n",
    "print hashStr('John is a cool dude')"
   ]
  },
  {
   "cell_type": "code",
   "execution_count": 8,
   "metadata": {
    "collapsed": false
   },
   "outputs": [
    {
     "name": "stdout",
     "output_type": "stream",
     "text": [
      "2\n",
      "3\n",
      "5\n"
     ]
    }
   ],
   "source": [
    "print hashStr('Eric', 7)\n",
    "print hashStr('Chris', 7)\n",
    "print hashStr('Sarina', 7)"
   ]
  },
  {
   "cell_type": "markdown",
   "metadata": {},
   "source": [
    "### How do you solve a collision problem? \n",
    "\n",
    "Initializing each element of the hash table to be an empty list, which is called a hash bucket. \n",
    "\n",
    "But you will run into the trade-off between time and space:\n",
    "\n",
    "Large table, fewer collision, quicker look up. \n",
    "\n",
    "Small table, more collision, slower look up. "
   ]
  },
  {
   "cell_type": "markdown",
   "metadata": {},
   "source": [
    "### But what is the likelihood of collision?  --  Class Index Example"
   ]
  },
  {
   "cell_type": "code",
   "execution_count": 10,
   "metadata": {
    "collapsed": true
   },
   "outputs": [],
   "source": [
    "import random\n",
    "\n",
    "\n",
    "class intDict(object):\n",
    "    \"\"\"A dictionary with integer keys\"\"\"\n",
    "    \n",
    "    def __init__(self, numBuckets):\n",
    "        \"\"\"Create an empty dictionary\"\"\"\n",
    "        self.buckets = []\n",
    "        self.numBuckets = numBuckets\n",
    "        for i in range(numBuckets):\n",
    "            self.buckets.append([])\n",
    "            \n",
    "    def addEntry(self, dictKey, dictVal):\n",
    "        \"\"\"Assumes dictKey an int.  Adds an entry.\"\"\"\n",
    "        hashBucket = self.buckets[dictKey%self.numBuckets]\n",
    "        for i in range(len(hashBucket)):\n",
    "            if hashBucket[i][0] == dictKey:\n",
    "                hashBucket[i] = (dictKey, dictVal)\n",
    "                return\n",
    "        hashBucket.append((dictKey, dictVal))\n",
    "        \n",
    "    def getValue(self, dictKey):\n",
    "        \"\"\"Assumes dictKey an int.  Returns entry associated\n",
    "           with the key dictKey\"\"\"\n",
    "        hashBucket = self.buckets[dictKey%self.numBuckets]\n",
    "        for e in hashBucket:\n",
    "            if e[0] == dictKey:\n",
    "                return e[1]\n",
    "        return None\n",
    "    \n",
    "    def __str__(self):\n",
    "        res = ''   # Change 1\n",
    "        for b in self.buckets:\n",
    "            for t in b:\n",
    "                res = res + str(t[0]) + ':' + str(t[1]) + ','\n",
    "        return '{' + res[:-1] + '}' # Change 2"
   ]
  },
  {
   "cell_type": "markdown",
   "metadata": {},
   "source": [
    "### Use the int dict "
   ]
  },
  {
   "cell_type": "code",
   "execution_count": 11,
   "metadata": {
    "collapsed": true
   },
   "outputs": [],
   "source": [
    "D = intDict(29)\n",
    "for i in range(20):\n",
    "    #choose a random int in range(10**5)\n",
    "    key = random.choice(range(10**5))\n",
    "    D.addEntry(key, i)"
   ]
  },
  {
   "cell_type": "code",
   "execution_count": 12,
   "metadata": {
    "collapsed": false
   },
   "outputs": [
    {
     "name": "stdout",
     "output_type": "stream",
     "text": [
      "\n",
      "The buckets are:\n",
      "   []\n",
      "   []\n",
      "   []\n",
      "   [(56611, 17)]\n",
      "   [(91789, 3)]\n",
      "   []\n",
      "   [(61428, 8)]\n",
      "   [(92633, 15)]\n",
      "   []\n",
      "   []\n",
      "   []\n",
      "   [(9494, 1)]\n",
      "   [(26170, 18)]\n",
      "   [(46268, 12)]\n",
      "   []\n",
      "   [(96759, 4), (25941, 7)]\n",
      "   [(69529, 5), (80694, 13), (52593, 19)]\n",
      "   [(12777, 10)]\n",
      "   [(47955, 6)]\n",
      "   []\n",
      "   [(72317, 16)]\n",
      "   [(77132, 9)]\n",
      "   [(41811, 11)]\n",
      "   []\n",
      "   []\n",
      "   [(3389, 0), (92187, 14)]\n",
      "   []\n",
      "   []\n",
      "   [(90392, 2)]\n"
     ]
    }
   ],
   "source": [
    "print '\\n', 'The buckets are:'\n",
    "for hashBucket in D.buckets: #violates abstraction barrier\n",
    "    print '  ', hashBucket"
   ]
  },
  {
   "cell_type": "markdown",
   "metadata": {},
   "source": [
    "****"
   ]
  },
  {
   "cell_type": "markdown",
   "metadata": {},
   "source": [
    "## Lecture 4: Stochastic Programming and Statistical Thinking"
   ]
  },
  {
   "cell_type": "markdown",
   "metadata": {},
   "source": [
    "### 1. LAW OF LARGE NUMBERS"
   ]
  },
  {
   "cell_type": "code",
   "execution_count": 1,
   "metadata": {
    "collapsed": true
   },
   "outputs": [],
   "source": [
    "import random"
   ]
  },
  {
   "cell_type": "code",
   "execution_count": 2,
   "metadata": {
    "collapsed": false
   },
   "outputs": [
    {
     "name": "stdout",
     "output_type": "stream",
     "text": [
      "Populating the interactive namespace from numpy and matplotlib\n"
     ]
    },
    {
     "name": "stderr",
     "output_type": "stream",
     "text": [
      "WARNING: pylab import has clobbered these variables: ['random', 'pylab']\n",
      "`%matplotlib` prevents importing * from pylab and numpy\n"
     ]
    }
   ],
   "source": [
    "import pylab\n",
    "\n",
    "%pylab inline"
   ]
  },
  {
   "cell_type": "code",
   "execution_count": 3,
   "metadata": {
    "collapsed": true
   },
   "outputs": [],
   "source": [
    "# flip coin function\n",
    "\n",
    "#set line width\n",
    "pylab.rcParams['lines.linewidth'] = 6\n",
    "#set font size for titles \n",
    "pylab.rcParams['axes.titlesize'] = 20\n",
    "#set font size for labels on axes\n",
    "pylab.rcParams['axes.labelsize'] = 20\n",
    "#set size of numbers on x-axis\n",
    "pylab.rcParams['xtick.major.size'] = 5\n",
    "#set size of numbers on y-axis\n",
    "pylab.rcParams['ytick.major.size'] = 5"
   ]
  },
  {
   "cell_type": "code",
   "execution_count": 4,
   "metadata": {
    "collapsed": true
   },
   "outputs": [],
   "source": [
    "def flip(numFlips):\n",
    "    heads = 0\n",
    "    for i in range(numFlips):\n",
    "        if random.random() < 0.5:\n",
    "            heads += 1\n",
    "    return heads/float(numFlips)"
   ]
  },
  {
   "cell_type": "code",
   "execution_count": 5,
   "metadata": {
    "collapsed": true
   },
   "outputs": [],
   "source": [
    "def flipPlot(minExp, maxExp):\n",
    "    \"\"\"Assumes minExp and maxExp positive integers; minExp < maxExp\n",
    "       Plots results of 2**minExp to 2**maxExp coin flips\"\"\"\n",
    "    ratios = []\n",
    "    diffs = []\n",
    "    xAxis = []\n",
    "    for exp in range(minExp, maxExp + 1):\n",
    "        xAxis.append(2**exp)\n",
    "    for numFlips in xAxis:\n",
    "        numHeads = 0\n",
    "        for n in range(numFlips):\n",
    "            if random.random() < 0.5:\n",
    "                numHeads += 1\n",
    "        numTails = numFlips - numHeads\n",
    "        ratios.append(numHeads/float(numTails))\n",
    "        diffs.append(abs(numHeads - numTails))\n",
    "    pylab.title('Difference Between Heads and Tails')\n",
    "    pylab.xlabel('Number of Flips')\n",
    "    pylab.ylabel('Abs(#Heads - #Tails)')\n",
    "    pylab.plot(xAxis, diffs)\n",
    "    pylab.figure()\n",
    "    pylab.title('Heads/Tails Ratios')\n",
    "    pylab.xlabel('Number of Flips')\n",
    "    pylab.ylabel('Heads/Tails')\n",
    "    pylab.plot(xAxis, ratios)"
   ]
  },
  {
   "cell_type": "code",
   "execution_count": 6,
   "metadata": {
    "collapsed": false
   },
   "outputs": [
    {
     "data": {
      "image/png": "[encoded data removed]",
      "text/plain": [
       "<matplotlib.figure.Figure at 0x1056fd850>"
      ]
     },
     "metadata": {},
     "output_type": "display_data"
    },
    {
     "data": {
      "image/png": "[encoded data removed]",
      "text/plain": [
       "<matplotlib.figure.Figure at 0x1056fdf10>"
      ]
     },
     "metadata": {},
     "output_type": "display_data"
    }
   ],
   "source": [
    "random.seed(0)\n",
    "flipPlot(4, 20)\n",
    "pylab.show()"
   ]
  },
  {
   "cell_type": "code",
   "execution_count": null,
   "metadata": {
    "collapsed": true
   },
   "outputs": [],
   "source": []
  }
 ],
 "metadata": {
  "kernelspec": {
   "display_name": "Python 2",
   "language": "python",
   "name": "python2"
  },
  "language_info": {
   "codemirror_mode": {
    "name": "ipython",
    "version": 2
   },
   "file_extension": ".py",
   "mimetype": "text/x-python",
   "name": "python",
   "nbconvert_exporter": "python",
   "pygments_lexer": "ipython2",
   "version": "2.7.10"
  }
 },
 "nbformat": 4,
 "nbformat_minor": 0
}
